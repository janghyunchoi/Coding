{
 "cells": [
  {
   "cell_type": "code",
   "execution_count": 31,
   "metadata": {},
   "outputs": [
    {
     "data": {
      "text/plain": [
       "119"
      ]
     },
     "execution_count": 31,
     "metadata": {},
     "output_type": "execute_result"
    }
   ],
   "source": [
    "#HanSu Question\n",
    "import sys\n",
    "\n",
    "def hanSu(n):\n",
    "    if n < 100:\n",
    "        return n\n",
    "    \n",
    "    elif (n < 1000 or n == 1000):\n",
    "        count = 0\n",
    "        for i in range(100, n + 1):    \n",
    "            ones = i % 10\n",
    "            tens = (i % 100) // 10\n",
    "            hundreds = i // 100\n",
    "            if((hundreds - tens) == (tens - ones)):\n",
    "                count += 1\n",
    "        return (count + 99)\n",
    "    else:\n",
    "        print('error bound')\n"
   ]
  },
  {
   "cell_type": "code",
   "execution_count": null,
   "metadata": {},
   "outputs": [],
   "source": []
  }
 ],
 "metadata": {
  "kernelspec": {
   "display_name": "Python 3",
   "language": "python",
   "name": "python3"
  },
  "language_info": {
   "codemirror_mode": {
    "name": "ipython",
    "version": 3
   },
   "file_extension": ".py",
   "mimetype": "text/x-python",
   "name": "python",
   "nbconvert_exporter": "python",
   "pygments_lexer": "ipython3",
   "version": "3.8.5"
  }
 },
 "nbformat": 4,
 "nbformat_minor": 4
}
