{
 "cells": [
  {
   "cell_type": "markdown",
   "metadata": {},
   "source": [
    "#### Point the filePath to where you have downloaded the datasets to and\n",
    "#### assign the data files to data.tables\n",
    "over to you! fill in the path to your working directory. If you are on a Windows\n",
    "machine, you will need to use forward slashes (/) instead of backshashes (\\)"
   ]
  },
  {
   "cell_type": "code",
   "execution_count": 441,
   "metadata": {},
   "outputs": [],
   "source": [
    "# Point the filePath to where you have downloaded the datasets to and\n",
    "# assign the data files to data.tables\n",
    "\n",
    "import pandas as pd\n",
    "import numpy as np\n",
    "import regex as re\n",
    "from plotnine import *\n",
    "from scipy import stats\n",
    "import statsmodels.api as sm\n",
    "from statsmodels.formula.api import ols\n",
    "from statsmodels.stats.anova import anova_lm\n",
    "\n",
    "transactionData = pd.read_excel(\"QVI_transaction_data.xlsx\")\n",
    "customerData = pd.read_csv(\"QVI_purchase_behaviour.csv\")"
   ]
  },
  {
   "cell_type": "markdown",
   "metadata": {},
   "source": [
    "### Exploratory data analysis\n",
    "#The first step in any analysis is to first understand the data. Let's take a look\n",
    "#at each of the datasets provided.\n",
    "\n",
    "### Examining transaction and customer data\n",
    "We can use `str()` to look at the format of each column and see a sample of the\n",
    "data. As we have read in the dataset as a `data.table` object, we can also run\n",
    "`transactionData` in the console to see a sample of the data or use\n",
    "`head(transactionData)` to look at the first 10 rows."
   ]
  },
  {
   "cell_type": "code",
   "execution_count": 442,
   "metadata": {
    "scrolled": true
   },
   "outputs": [
    {
     "data": {
      "text/html": [
       "<div>\n",
       "<style scoped>\n",
       "    .dataframe tbody tr th:only-of-type {\n",
       "        vertical-align: middle;\n",
       "    }\n",
       "\n",
       "    .dataframe tbody tr th {\n",
       "        vertical-align: top;\n",
       "    }\n",
       "\n",
       "    .dataframe thead th {\n",
       "        text-align: right;\n",
       "    }\n",
       "</style>\n",
       "<table border=\"1\" class=\"dataframe\">\n",
       "  <thead>\n",
       "    <tr style=\"text-align: right;\">\n",
       "      <th></th>\n",
       "      <th>DATE</th>\n",
       "      <th>STORE_NBR</th>\n",
       "      <th>LYLTY_CARD_NBR</th>\n",
       "      <th>TXN_ID</th>\n",
       "      <th>PROD_NBR</th>\n",
       "      <th>PROD_NAME</th>\n",
       "      <th>PROD_QTY</th>\n",
       "      <th>TOT_SALES</th>\n",
       "    </tr>\n",
       "  </thead>\n",
       "  <tbody>\n",
       "    <tr>\n",
       "      <th>0</th>\n",
       "      <td>43390</td>\n",
       "      <td>1</td>\n",
       "      <td>1000</td>\n",
       "      <td>1</td>\n",
       "      <td>5</td>\n",
       "      <td>Natural Chip        Compny SeaSalt175g</td>\n",
       "      <td>2</td>\n",
       "      <td>6.0</td>\n",
       "    </tr>\n",
       "    <tr>\n",
       "      <th>1</th>\n",
       "      <td>43599</td>\n",
       "      <td>1</td>\n",
       "      <td>1307</td>\n",
       "      <td>348</td>\n",
       "      <td>66</td>\n",
       "      <td>CCs Nacho Cheese    175g</td>\n",
       "      <td>3</td>\n",
       "      <td>6.3</td>\n",
       "    </tr>\n",
       "    <tr>\n",
       "      <th>2</th>\n",
       "      <td>43605</td>\n",
       "      <td>1</td>\n",
       "      <td>1343</td>\n",
       "      <td>383</td>\n",
       "      <td>61</td>\n",
       "      <td>Smiths Crinkle Cut  Chips Chicken 170g</td>\n",
       "      <td>2</td>\n",
       "      <td>2.9</td>\n",
       "    </tr>\n",
       "    <tr>\n",
       "      <th>3</th>\n",
       "      <td>43329</td>\n",
       "      <td>2</td>\n",
       "      <td>2373</td>\n",
       "      <td>974</td>\n",
       "      <td>69</td>\n",
       "      <td>Smiths Chip Thinly  S/Cream&amp;Onion 175g</td>\n",
       "      <td>5</td>\n",
       "      <td>15.0</td>\n",
       "    </tr>\n",
       "    <tr>\n",
       "      <th>4</th>\n",
       "      <td>43330</td>\n",
       "      <td>2</td>\n",
       "      <td>2426</td>\n",
       "      <td>1038</td>\n",
       "      <td>108</td>\n",
       "      <td>Kettle Tortilla ChpsHny&amp;Jlpno Chili 150g</td>\n",
       "      <td>3</td>\n",
       "      <td>13.8</td>\n",
       "    </tr>\n",
       "    <tr>\n",
       "      <th>5</th>\n",
       "      <td>43604</td>\n",
       "      <td>4</td>\n",
       "      <td>4074</td>\n",
       "      <td>2982</td>\n",
       "      <td>57</td>\n",
       "      <td>Old El Paso Salsa   Dip Tomato Mild 300g</td>\n",
       "      <td>1</td>\n",
       "      <td>5.1</td>\n",
       "    </tr>\n",
       "    <tr>\n",
       "      <th>6</th>\n",
       "      <td>43601</td>\n",
       "      <td>4</td>\n",
       "      <td>4149</td>\n",
       "      <td>3333</td>\n",
       "      <td>16</td>\n",
       "      <td>Smiths Crinkle Chips Salt &amp; Vinegar 330g</td>\n",
       "      <td>1</td>\n",
       "      <td>5.7</td>\n",
       "    </tr>\n",
       "    <tr>\n",
       "      <th>7</th>\n",
       "      <td>43601</td>\n",
       "      <td>4</td>\n",
       "      <td>4196</td>\n",
       "      <td>3539</td>\n",
       "      <td>24</td>\n",
       "      <td>Grain Waves         Sweet Chilli 210g</td>\n",
       "      <td>1</td>\n",
       "      <td>3.6</td>\n",
       "    </tr>\n",
       "    <tr>\n",
       "      <th>8</th>\n",
       "      <td>43332</td>\n",
       "      <td>5</td>\n",
       "      <td>5026</td>\n",
       "      <td>4525</td>\n",
       "      <td>42</td>\n",
       "      <td>Doritos Corn Chip Mexican Jalapeno 150g</td>\n",
       "      <td>1</td>\n",
       "      <td>3.9</td>\n",
       "    </tr>\n",
       "    <tr>\n",
       "      <th>9</th>\n",
       "      <td>43330</td>\n",
       "      <td>7</td>\n",
       "      <td>7150</td>\n",
       "      <td>6900</td>\n",
       "      <td>52</td>\n",
       "      <td>Grain Waves Sour    Cream&amp;Chives 210G</td>\n",
       "      <td>2</td>\n",
       "      <td>7.2</td>\n",
       "    </tr>\n",
       "  </tbody>\n",
       "</table>\n",
       "</div>"
      ],
      "text/plain": [
       "    DATE  STORE_NBR  LYLTY_CARD_NBR  TXN_ID  PROD_NBR  \\\n",
       "0  43390          1            1000       1         5   \n",
       "1  43599          1            1307     348        66   \n",
       "2  43605          1            1343     383        61   \n",
       "3  43329          2            2373     974        69   \n",
       "4  43330          2            2426    1038       108   \n",
       "5  43604          4            4074    2982        57   \n",
       "6  43601          4            4149    3333        16   \n",
       "7  43601          4            4196    3539        24   \n",
       "8  43332          5            5026    4525        42   \n",
       "9  43330          7            7150    6900        52   \n",
       "\n",
       "                                  PROD_NAME  PROD_QTY  TOT_SALES  \n",
       "0    Natural Chip        Compny SeaSalt175g         2        6.0  \n",
       "1                  CCs Nacho Cheese    175g         3        6.3  \n",
       "2    Smiths Crinkle Cut  Chips Chicken 170g         2        2.9  \n",
       "3    Smiths Chip Thinly  S/Cream&Onion 175g         5       15.0  \n",
       "4  Kettle Tortilla ChpsHny&Jlpno Chili 150g         3       13.8  \n",
       "5  Old El Paso Salsa   Dip Tomato Mild 300g         1        5.1  \n",
       "6  Smiths Crinkle Chips Salt & Vinegar 330g         1        5.7  \n",
       "7     Grain Waves         Sweet Chilli 210g         1        3.6  \n",
       "8   Doritos Corn Chip Mexican Jalapeno 150g         1        3.9  \n",
       "9     Grain Waves Sour    Cream&Chives 210G         2        7.2  "
      ]
     },
     "execution_count": 442,
     "metadata": {},
     "output_type": "execute_result"
    }
   ],
   "source": [
    "#first ten observations of transaction Data\n",
    "transactionData.head(10)"
   ]
  },
  {
   "cell_type": "markdown",
   "metadata": {},
   "source": [
    "We see multiple variables including numeric, string, and factor variables, meaning efficient grouping is required for analysis."
   ]
  },
  {
   "cell_type": "code",
   "execution_count": 443,
   "metadata": {
    "scrolled": false
   },
   "outputs": [
    {
     "data": {
      "text/html": [
       "<div>\n",
       "<style scoped>\n",
       "    .dataframe tbody tr th:only-of-type {\n",
       "        vertical-align: middle;\n",
       "    }\n",
       "\n",
       "    .dataframe tbody tr th {\n",
       "        vertical-align: top;\n",
       "    }\n",
       "\n",
       "    .dataframe thead th {\n",
       "        text-align: right;\n",
       "    }\n",
       "</style>\n",
       "<table border=\"1\" class=\"dataframe\">\n",
       "  <thead>\n",
       "    <tr style=\"text-align: right;\">\n",
       "      <th></th>\n",
       "      <th>LYLTY_CARD_NBR</th>\n",
       "      <th>LIFESTAGE</th>\n",
       "      <th>PREMIUM_CUSTOMER</th>\n",
       "    </tr>\n",
       "  </thead>\n",
       "  <tbody>\n",
       "    <tr>\n",
       "      <th>0</th>\n",
       "      <td>1000</td>\n",
       "      <td>YOUNG SINGLES/COUPLES</td>\n",
       "      <td>Premium</td>\n",
       "    </tr>\n",
       "    <tr>\n",
       "      <th>1</th>\n",
       "      <td>1002</td>\n",
       "      <td>YOUNG SINGLES/COUPLES</td>\n",
       "      <td>Mainstream</td>\n",
       "    </tr>\n",
       "    <tr>\n",
       "      <th>2</th>\n",
       "      <td>1003</td>\n",
       "      <td>YOUNG FAMILIES</td>\n",
       "      <td>Budget</td>\n",
       "    </tr>\n",
       "    <tr>\n",
       "      <th>3</th>\n",
       "      <td>1004</td>\n",
       "      <td>OLDER SINGLES/COUPLES</td>\n",
       "      <td>Mainstream</td>\n",
       "    </tr>\n",
       "    <tr>\n",
       "      <th>4</th>\n",
       "      <td>1005</td>\n",
       "      <td>MIDAGE SINGLES/COUPLES</td>\n",
       "      <td>Mainstream</td>\n",
       "    </tr>\n",
       "    <tr>\n",
       "      <th>5</th>\n",
       "      <td>1007</td>\n",
       "      <td>YOUNG SINGLES/COUPLES</td>\n",
       "      <td>Budget</td>\n",
       "    </tr>\n",
       "    <tr>\n",
       "      <th>6</th>\n",
       "      <td>1009</td>\n",
       "      <td>NEW FAMILIES</td>\n",
       "      <td>Premium</td>\n",
       "    </tr>\n",
       "    <tr>\n",
       "      <th>7</th>\n",
       "      <td>1010</td>\n",
       "      <td>YOUNG SINGLES/COUPLES</td>\n",
       "      <td>Mainstream</td>\n",
       "    </tr>\n",
       "    <tr>\n",
       "      <th>8</th>\n",
       "      <td>1011</td>\n",
       "      <td>OLDER SINGLES/COUPLES</td>\n",
       "      <td>Mainstream</td>\n",
       "    </tr>\n",
       "    <tr>\n",
       "      <th>9</th>\n",
       "      <td>1012</td>\n",
       "      <td>OLDER FAMILIES</td>\n",
       "      <td>Mainstream</td>\n",
       "    </tr>\n",
       "  </tbody>\n",
       "</table>\n",
       "</div>"
      ],
      "text/plain": [
       "   LYLTY_CARD_NBR               LIFESTAGE PREMIUM_CUSTOMER\n",
       "0            1000   YOUNG SINGLES/COUPLES          Premium\n",
       "1            1002   YOUNG SINGLES/COUPLES       Mainstream\n",
       "2            1003          YOUNG FAMILIES           Budget\n",
       "3            1004   OLDER SINGLES/COUPLES       Mainstream\n",
       "4            1005  MIDAGE SINGLES/COUPLES       Mainstream\n",
       "5            1007   YOUNG SINGLES/COUPLES           Budget\n",
       "6            1009            NEW FAMILIES          Premium\n",
       "7            1010   YOUNG SINGLES/COUPLES       Mainstream\n",
       "8            1011   OLDER SINGLES/COUPLES       Mainstream\n",
       "9            1012          OLDER FAMILIES       Mainstream"
      ]
     },
     "execution_count": 443,
     "metadata": {},
     "output_type": "execute_result"
    }
   ],
   "source": [
    "#first ten observations of customer Data\n",
    "customerData.head(10)"
   ]
  },
  {
   "cell_type": "markdown",
   "metadata": {},
   "source": [
    "We see factor variables: 'LIFESTAGE' and 'PREMIUM_CUSTOMER'. Since we have 'LYLTY_CARD_NBR' variable in common in both data, we can merge two data sets."
   ]
  },
  {
   "cell_type": "code",
   "execution_count": 444,
   "metadata": {},
   "outputs": [
    {
     "data": {
      "text/plain": [
       "LYLTY_CARD_NBR       int64\n",
       "LIFESTAGE           object\n",
       "PREMIUM_CUSTOMER    object\n",
       "dtype: object"
      ]
     },
     "execution_count": 444,
     "metadata": {},
     "output_type": "execute_result"
    }
   ],
   "source": [
    "#see variable types\n",
    "customerData.dtypes"
   ]
  },
  {
   "cell_type": "code",
   "execution_count": 445,
   "metadata": {},
   "outputs": [
    {
     "data": {
      "text/plain": [
       "DATE                int64\n",
       "STORE_NBR           int64\n",
       "LYLTY_CARD_NBR      int64\n",
       "TXN_ID              int64\n",
       "PROD_NBR            int64\n",
       "PROD_NAME          object\n",
       "PROD_QTY            int64\n",
       "TOT_SALES         float64\n",
       "dtype: object"
      ]
     },
     "execution_count": 445,
     "metadata": {},
     "output_type": "execute_result"
    }
   ],
   "source": [
    "#see variable types\n",
    "transactionData.dtypes"
   ]
  },
  {
   "cell_type": "markdown",
   "metadata": {},
   "source": [
    "We can see that the date column is in an integer format. Let's change this to a date format."
   ]
  },
  {
   "cell_type": "code",
   "execution_count": 446,
   "metadata": {},
   "outputs": [],
   "source": [
    "#Convert DATE column to a date format\n",
    "transactionData['DATE'] = pd.to_datetime(transactionData['DATE'], origin = \"1899-12-30\", unit = \"D\")"
   ]
  },
  {
   "cell_type": "markdown",
   "metadata": {},
   "source": [
    "A quick search online tells us that CSV and Excel integer dates begin on 30 Dec 1899"
   ]
  },
  {
   "cell_type": "code",
   "execution_count": 447,
   "metadata": {},
   "outputs": [
    {
     "data": {
      "text/plain": [
       "0        2018-10-17\n",
       "1        2019-05-14\n",
       "2        2019-05-20\n",
       "3        2018-08-17\n",
       "4        2018-08-18\n",
       "            ...    \n",
       "264831   2019-03-09\n",
       "264832   2018-08-13\n",
       "264833   2018-11-06\n",
       "264834   2018-12-27\n",
       "264835   2018-09-22\n",
       "Name: DATE, Length: 264836, dtype: datetime64[ns]"
      ]
     },
     "execution_count": 447,
     "metadata": {},
     "output_type": "execute_result"
    }
   ],
   "source": [
    "#check if applied correctly\n",
    "transactionData['DATE']"
   ]
  },
  {
   "cell_type": "markdown",
   "metadata": {},
   "source": [
    "#### Examine PROD_NAME"
   ]
  },
  {
   "cell_type": "markdown",
   "metadata": {},
   "source": [
    "Looks like we are definitely looking at potato chips but how can we check that\n",
    "these are all chips? We can do some basic text analysis by summarising the\n",
    "individual words in the product name."
   ]
  },
  {
   "cell_type": "code",
   "execution_count": 448,
   "metadata": {
    "scrolled": true
   },
   "outputs": [
    {
     "data": {
      "text/plain": [
       "0           Natural Chip        Compny SeaSalt175g\n",
       "1                         CCs Nacho Cheese    175g\n",
       "2           Smiths Crinkle Cut  Chips Chicken 170g\n",
       "3           Smiths Chip Thinly  S/Cream&Onion 175g\n",
       "4         Kettle Tortilla ChpsHny&Jlpno Chili 150g\n",
       "                            ...                   \n",
       "264831     Kettle Sweet Chilli And Sour Cream 175g\n",
       "264832               Tostitos Splash Of  Lime 175g\n",
       "264833                    Doritos Mexicana    170g\n",
       "264834     Doritos Corn Chip Mexican Jalapeno 150g\n",
       "264835               Tostitos Splash Of  Lime 175g\n",
       "Name: PROD_NAME, Length: 264836, dtype: object"
      ]
     },
     "execution_count": 448,
     "metadata": {},
     "output_type": "execute_result"
    }
   ],
   "source": [
    "transactionData['PROD_NAME']"
   ]
  },
  {
   "cell_type": "code",
   "execution_count": 449,
   "metadata": {},
   "outputs": [
    {
     "data": {
      "text/plain": [
       "<bound method IndexOpsMixin.nunique of 0           Natural Chip        Compny SeaSalt175g\n",
       "1                         CCs Nacho Cheese    175g\n",
       "2           Smiths Crinkle Cut  Chips Chicken 170g\n",
       "3           Smiths Chip Thinly  S/Cream&Onion 175g\n",
       "4         Kettle Tortilla ChpsHny&Jlpno Chili 150g\n",
       "                            ...                   \n",
       "264831     Kettle Sweet Chilli And Sour Cream 175g\n",
       "264832               Tostitos Splash Of  Lime 175g\n",
       "264833                    Doritos Mexicana    170g\n",
       "264834     Doritos Corn Chip Mexican Jalapeno 150g\n",
       "264835               Tostitos Splash Of  Lime 175g\n",
       "Name: PROD_NAME, Length: 264836, dtype: object>"
      ]
     },
     "execution_count": 449,
     "metadata": {},
     "output_type": "execute_result"
    }
   ],
   "source": [
    "#see how many unique products we have\n",
    "transactionData['PROD_NAME'].nunique"
   ]
  },
  {
   "cell_type": "markdown",
   "metadata": {},
   "source": [
    "#### Examine the words in PROD_NAME to see if there are any incorrect entries\n",
    "#### such as products that are not chips"
   ]
  },
  {
   "cell_type": "markdown",
   "metadata": {},
   "source": [
    "As we are only interested in words that will tell us if the product is chips or\n",
    "not, let's remove all words with digits and special characters such as '&' from our\n",
    "set of product words."
   ]
  },
  {
   "cell_type": "code",
   "execution_count": 450,
   "metadata": {
    "scrolled": true
   },
   "outputs": [
    {
     "data": {
      "text/plain": [
       "0         False\n",
       "1         False\n",
       "2         False\n",
       "3          True\n",
       "4          True\n",
       "          ...  \n",
       "264831    False\n",
       "264832    False\n",
       "264833    False\n",
       "264834    False\n",
       "264835    False\n",
       "Name: PROD_NAME, Length: 264836, dtype: bool"
      ]
     },
     "execution_count": 450,
     "metadata": {},
     "output_type": "execute_result"
    }
   ],
   "source": [
    "#see if the variable contains special character\n",
    "transactionData['PROD_NAME'].str.contains('&')"
   ]
  },
  {
   "cell_type": "code",
   "execution_count": 451,
   "metadata": {},
   "outputs": [],
   "source": [
    "#chracters to replace\n",
    "char_to_replace = ('&','*','/','@','#','$','%','^','*','(',')','-','_','=','+','?',',',';',':','\\'','\\\"','<','>','[',']','{','}')"
   ]
  },
  {
   "cell_type": "code",
   "execution_count": 520,
   "metadata": {
    "scrolled": false
   },
   "outputs": [
    {
     "data": {
      "text/plain": [
       "0           Natural Chip        Compny SeaSalt175g\n",
       "1                         CCs Nacho Cheese    175g\n",
       "2           Smiths Crinkle Cut  Chips Chicken 170g\n",
       "3           Smiths Chip Thinly  S/Cream Onion 175g\n",
       "4         Kettle Tortilla ChpsHny Jlpno Chili 150g\n",
       "                            ...                   \n",
       "264831     Kettle Sweet Chilli And Sour Cream 175g\n",
       "264832               Tostitos Splash Of  Lime 175g\n",
       "264833                    Doritos Mexicana    170g\n",
       "264834     Doritos Corn Chip Mexican Jalapeno 150g\n",
       "264835               Tostitos Splash Of  Lime 175g\n",
       "Name: PROD_NAME, Length: 246740, dtype: object"
      ]
     },
     "execution_count": 520,
     "metadata": {},
     "output_type": "execute_result"
    }
   ],
   "source": [
    "#delete all the speical characters\n",
    "\n",
    "#prodName = transactionData.PROD_NAME\n",
    "#for  i in range(len(prodName)):\n",
    "#    for j in char_to_replace:\n",
    "#        if j in transactionData.PROD_NAME[i]:\n",
    "#            prodName[i] = transactionData.PROD_NAME[i].replace(j, \" \")\n",
    "#            prodName.head(10)\n",
    "\n",
    "transactionData.PROD_NAME.str.replace('&', ' ').replace(r'\\/', ' ')"
   ]
  },
  {
   "cell_type": "markdown",
   "metadata": {},
   "source": [
    "Since for loop causes programming runnning time longer and I found out that '&' and '/' are the only special characters I could observe. Therefore, I'll use simpler method."
   ]
  },
  {
   "cell_type": "code",
   "execution_count": 453,
   "metadata": {},
   "outputs": [
    {
     "data": {
      "text/plain": [
       "Kettle Mozzarella   Basil   Pesto 175g      3304\n",
       "Kettle Tortilla ChpsHny Jlpno Chili 150g    3296\n",
       "Cobs Popd Swt Chlli  Sr Cream Chips 110g    3269\n",
       "Tyrrells Crisps     Ched   Chives 165g      3268\n",
       "Cobs Popd Sea Salt  Chips 110g              3265\n",
       "                                            ... \n",
       "RRD Pc Sea Salt     165g                    1431\n",
       "Woolworths Medium   Salsa 300g              1430\n",
       "NCC Sour Cream      Garden Chives 175g      1419\n",
       "French Fries Potato Chips 175g              1418\n",
       "WW Crinkle Cut      Original 175g           1410\n",
       "Name: PROD_NAME, Length: 114, dtype: int64"
      ]
     },
     "execution_count": 453,
     "metadata": {},
     "output_type": "execute_result"
    }
   ],
   "source": [
    "#count all the unique items\n",
    "\n",
    "prodName.value_counts()"
   ]
  },
  {
   "cell_type": "markdown",
   "metadata": {},
   "source": [
    "There are salsa products in the dataset but we are only interested in the chips\n",
    "category, so let's remove these."
   ]
  },
  {
   "cell_type": "code",
   "execution_count": 454,
   "metadata": {},
   "outputs": [],
   "source": [
    "#print without Salsa products\n",
    "\n",
    "transactionData = transactionData[-transactionData['PROD_NAME'].str.contains('Salsa')]"
   ]
  },
  {
   "cell_type": "code",
   "execution_count": 455,
   "metadata": {},
   "outputs": [
    {
     "data": {
      "text/html": [
       "<div>\n",
       "<style scoped>\n",
       "    .dataframe tbody tr th:only-of-type {\n",
       "        vertical-align: middle;\n",
       "    }\n",
       "\n",
       "    .dataframe tbody tr th {\n",
       "        vertical-align: top;\n",
       "    }\n",
       "\n",
       "    .dataframe thead th {\n",
       "        text-align: right;\n",
       "    }\n",
       "</style>\n",
       "<table border=\"1\" class=\"dataframe\">\n",
       "  <thead>\n",
       "    <tr style=\"text-align: right;\">\n",
       "      <th></th>\n",
       "      <th>DATE</th>\n",
       "      <th>STORE_NBR</th>\n",
       "      <th>LYLTY_CARD_NBR</th>\n",
       "      <th>TXN_ID</th>\n",
       "      <th>PROD_NBR</th>\n",
       "      <th>PROD_NAME</th>\n",
       "      <th>PROD_QTY</th>\n",
       "      <th>TOT_SALES</th>\n",
       "    </tr>\n",
       "  </thead>\n",
       "  <tbody>\n",
       "    <tr>\n",
       "      <th>0</th>\n",
       "      <td>2018-10-17</td>\n",
       "      <td>1</td>\n",
       "      <td>1000</td>\n",
       "      <td>1</td>\n",
       "      <td>5</td>\n",
       "      <td>Natural Chip        Compny SeaSalt175g</td>\n",
       "      <td>2</td>\n",
       "      <td>6.0</td>\n",
       "    </tr>\n",
       "    <tr>\n",
       "      <th>1</th>\n",
       "      <td>2019-05-14</td>\n",
       "      <td>1</td>\n",
       "      <td>1307</td>\n",
       "      <td>348</td>\n",
       "      <td>66</td>\n",
       "      <td>CCs Nacho Cheese    175g</td>\n",
       "      <td>3</td>\n",
       "      <td>6.3</td>\n",
       "    </tr>\n",
       "    <tr>\n",
       "      <th>2</th>\n",
       "      <td>2019-05-20</td>\n",
       "      <td>1</td>\n",
       "      <td>1343</td>\n",
       "      <td>383</td>\n",
       "      <td>61</td>\n",
       "      <td>Smiths Crinkle Cut  Chips Chicken 170g</td>\n",
       "      <td>2</td>\n",
       "      <td>2.9</td>\n",
       "    </tr>\n",
       "    <tr>\n",
       "      <th>3</th>\n",
       "      <td>2018-08-17</td>\n",
       "      <td>2</td>\n",
       "      <td>2373</td>\n",
       "      <td>974</td>\n",
       "      <td>69</td>\n",
       "      <td>Smiths Chip Thinly  S/Cream&amp;Onion 175g</td>\n",
       "      <td>5</td>\n",
       "      <td>15.0</td>\n",
       "    </tr>\n",
       "    <tr>\n",
       "      <th>4</th>\n",
       "      <td>2018-08-18</td>\n",
       "      <td>2</td>\n",
       "      <td>2426</td>\n",
       "      <td>1038</td>\n",
       "      <td>108</td>\n",
       "      <td>Kettle Tortilla ChpsHny&amp;Jlpno Chili 150g</td>\n",
       "      <td>3</td>\n",
       "      <td>13.8</td>\n",
       "    </tr>\n",
       "    <tr>\n",
       "      <th>6</th>\n",
       "      <td>2019-05-16</td>\n",
       "      <td>4</td>\n",
       "      <td>4149</td>\n",
       "      <td>3333</td>\n",
       "      <td>16</td>\n",
       "      <td>Smiths Crinkle Chips Salt &amp; Vinegar 330g</td>\n",
       "      <td>1</td>\n",
       "      <td>5.7</td>\n",
       "    </tr>\n",
       "    <tr>\n",
       "      <th>7</th>\n",
       "      <td>2019-05-16</td>\n",
       "      <td>4</td>\n",
       "      <td>4196</td>\n",
       "      <td>3539</td>\n",
       "      <td>24</td>\n",
       "      <td>Grain Waves         Sweet Chilli 210g</td>\n",
       "      <td>1</td>\n",
       "      <td>3.6</td>\n",
       "    </tr>\n",
       "    <tr>\n",
       "      <th>8</th>\n",
       "      <td>2018-08-20</td>\n",
       "      <td>5</td>\n",
       "      <td>5026</td>\n",
       "      <td>4525</td>\n",
       "      <td>42</td>\n",
       "      <td>Doritos Corn Chip Mexican Jalapeno 150g</td>\n",
       "      <td>1</td>\n",
       "      <td>3.9</td>\n",
       "    </tr>\n",
       "    <tr>\n",
       "      <th>9</th>\n",
       "      <td>2018-08-18</td>\n",
       "      <td>7</td>\n",
       "      <td>7150</td>\n",
       "      <td>6900</td>\n",
       "      <td>52</td>\n",
       "      <td>Grain Waves Sour    Cream&amp;Chives 210G</td>\n",
       "      <td>2</td>\n",
       "      <td>7.2</td>\n",
       "    </tr>\n",
       "    <tr>\n",
       "      <th>10</th>\n",
       "      <td>2019-05-17</td>\n",
       "      <td>7</td>\n",
       "      <td>7215</td>\n",
       "      <td>7176</td>\n",
       "      <td>16</td>\n",
       "      <td>Smiths Crinkle Chips Salt &amp; Vinegar 330g</td>\n",
       "      <td>1</td>\n",
       "      <td>5.7</td>\n",
       "    </tr>\n",
       "  </tbody>\n",
       "</table>\n",
       "</div>"
      ],
      "text/plain": [
       "         DATE  STORE_NBR  LYLTY_CARD_NBR  TXN_ID  PROD_NBR  \\\n",
       "0  2018-10-17          1            1000       1         5   \n",
       "1  2019-05-14          1            1307     348        66   \n",
       "2  2019-05-20          1            1343     383        61   \n",
       "3  2018-08-17          2            2373     974        69   \n",
       "4  2018-08-18          2            2426    1038       108   \n",
       "6  2019-05-16          4            4149    3333        16   \n",
       "7  2019-05-16          4            4196    3539        24   \n",
       "8  2018-08-20          5            5026    4525        42   \n",
       "9  2018-08-18          7            7150    6900        52   \n",
       "10 2019-05-17          7            7215    7176        16   \n",
       "\n",
       "                                   PROD_NAME  PROD_QTY  TOT_SALES  \n",
       "0     Natural Chip        Compny SeaSalt175g         2        6.0  \n",
       "1                   CCs Nacho Cheese    175g         3        6.3  \n",
       "2     Smiths Crinkle Cut  Chips Chicken 170g         2        2.9  \n",
       "3     Smiths Chip Thinly  S/Cream&Onion 175g         5       15.0  \n",
       "4   Kettle Tortilla ChpsHny&Jlpno Chili 150g         3       13.8  \n",
       "6   Smiths Crinkle Chips Salt & Vinegar 330g         1        5.7  \n",
       "7      Grain Waves         Sweet Chilli 210g         1        3.6  \n",
       "8    Doritos Corn Chip Mexican Jalapeno 150g         1        3.9  \n",
       "9      Grain Waves Sour    Cream&Chives 210G         2        7.2  \n",
       "10  Smiths Crinkle Chips Salt & Vinegar 330g         1        5.7  "
      ]
     },
     "execution_count": 455,
     "metadata": {},
     "output_type": "execute_result"
    }
   ],
   "source": [
    "transactionData.head(10)"
   ]
  },
  {
   "cell_type": "code",
   "execution_count": 456,
   "metadata": {
    "scrolled": true
   },
   "outputs": [
    {
     "name": "stdout",
     "output_type": "stream",
     "text": [
      "<class 'pandas.core.frame.DataFrame'>\n",
      "Int64Index: 246742 entries, 0 to 264835\n",
      "Data columns (total 8 columns):\n",
      " #   Column          Non-Null Count   Dtype         \n",
      "---  ------          --------------   -----         \n",
      " 0   DATE            246742 non-null  datetime64[ns]\n",
      " 1   STORE_NBR       246742 non-null  int64         \n",
      " 2   LYLTY_CARD_NBR  246742 non-null  int64         \n",
      " 3   TXN_ID          246742 non-null  int64         \n",
      " 4   PROD_NBR        246742 non-null  int64         \n",
      " 5   PROD_NAME       246742 non-null  object        \n",
      " 6   PROD_QTY        246742 non-null  int64         \n",
      " 7   TOT_SALES       246742 non-null  float64       \n",
      "dtypes: datetime64[ns](1), float64(1), int64(5), object(1)\n",
      "memory usage: 16.9+ MB\n"
     ]
    }
   ],
   "source": [
    "#see if there is any outliers\n",
    "\n",
    "transactionData.info()"
   ]
  },
  {
   "cell_type": "markdown",
   "metadata": {},
   "source": [
    "The summary shows there is non-null count, meaning no missing observations."
   ]
  },
  {
   "cell_type": "code",
   "execution_count": 457,
   "metadata": {
    "scrolled": true
   },
   "outputs": [
    {
     "data": {
      "image/png": "[encoded data removed]",
      "text/plain": [
       "<Figure size 640x480 with 1 Axes>"
      ]
     },
     "metadata": {},
     "output_type": "display_data"
    },
    {
     "data": {
      "text/plain": [
       "<ggplot: (136680410929)>"
      ]
     },
     "execution_count": 457,
     "metadata": {},
     "output_type": "execute_result"
    }
   ],
   "source": [
    "#dot graph to see any outliers or patterns\n",
    "ggplot(transactionData, aes(x = 'PROD_QTY', y = 'TOT_SALES')) + geom_point()"
   ]
  },
  {
   "cell_type": "markdown",
   "metadata": {},
   "source": [
    "The result shows that there is an outlier where TOT_SALES is around 650 and PROD_QTY is around 200."
   ]
  },
  {
   "cell_type": "code",
   "execution_count": 458,
   "metadata": {},
   "outputs": [
    {
     "data": {
      "text/html": [
       "<div>\n",
       "<style scoped>\n",
       "    .dataframe tbody tr th:only-of-type {\n",
       "        vertical-align: middle;\n",
       "    }\n",
       "\n",
       "    .dataframe tbody tr th {\n",
       "        vertical-align: top;\n",
       "    }\n",
       "\n",
       "    .dataframe thead th {\n",
       "        text-align: right;\n",
       "    }\n",
       "</style>\n",
       "<table border=\"1\" class=\"dataframe\">\n",
       "  <thead>\n",
       "    <tr style=\"text-align: right;\">\n",
       "      <th></th>\n",
       "      <th>DATE</th>\n",
       "      <th>STORE_NBR</th>\n",
       "      <th>LYLTY_CARD_NBR</th>\n",
       "      <th>TXN_ID</th>\n",
       "      <th>PROD_NBR</th>\n",
       "      <th>PROD_NAME</th>\n",
       "      <th>PROD_QTY</th>\n",
       "      <th>TOT_SALES</th>\n",
       "    </tr>\n",
       "  </thead>\n",
       "  <tbody>\n",
       "    <tr>\n",
       "      <th>69762</th>\n",
       "      <td>2018-08-19</td>\n",
       "      <td>226</td>\n",
       "      <td>226000</td>\n",
       "      <td>226201</td>\n",
       "      <td>4</td>\n",
       "      <td>Dorito Corn Chp     Supreme 380g</td>\n",
       "      <td>200</td>\n",
       "      <td>650.0</td>\n",
       "    </tr>\n",
       "    <tr>\n",
       "      <th>69763</th>\n",
       "      <td>2019-05-20</td>\n",
       "      <td>226</td>\n",
       "      <td>226000</td>\n",
       "      <td>226210</td>\n",
       "      <td>4</td>\n",
       "      <td>Dorito Corn Chp     Supreme 380g</td>\n",
       "      <td>200</td>\n",
       "      <td>650.0</td>\n",
       "    </tr>\n",
       "  </tbody>\n",
       "</table>\n",
       "</div>"
      ],
      "text/plain": [
       "            DATE  STORE_NBR  LYLTY_CARD_NBR  TXN_ID  PROD_NBR  \\\n",
       "69762 2018-08-19        226          226000  226201         4   \n",
       "69763 2019-05-20        226          226000  226210         4   \n",
       "\n",
       "                              PROD_NAME  PROD_QTY  TOT_SALES  \n",
       "69762  Dorito Corn Chp     Supreme 380g       200      650.0  \n",
       "69763  Dorito Corn Chp     Supreme 380g       200      650.0  "
      ]
     },
     "execution_count": 458,
     "metadata": {},
     "output_type": "execute_result"
    }
   ],
   "source": [
    "#found outliers from ggplot. now find those outliers.\n",
    "\n",
    "transactionData[transactionData.PROD_QTY == 200]"
   ]
  },
  {
   "cell_type": "markdown",
   "metadata": {},
   "source": [
    "Resulted in observing two outliers that has 650 sales"
   ]
  },
  {
   "cell_type": "code",
   "execution_count": 459,
   "metadata": {},
   "outputs": [
    {
     "data": {
      "text/html": [
       "<div>\n",
       "<style scoped>\n",
       "    .dataframe tbody tr th:only-of-type {\n",
       "        vertical-align: middle;\n",
       "    }\n",
       "\n",
       "    .dataframe tbody tr th {\n",
       "        vertical-align: top;\n",
       "    }\n",
       "\n",
       "    .dataframe thead th {\n",
       "        text-align: right;\n",
       "    }\n",
       "</style>\n",
       "<table border=\"1\" class=\"dataframe\">\n",
       "  <thead>\n",
       "    <tr style=\"text-align: right;\">\n",
       "      <th></th>\n",
       "      <th>DATE</th>\n",
       "      <th>STORE_NBR</th>\n",
       "      <th>LYLTY_CARD_NBR</th>\n",
       "      <th>TXN_ID</th>\n",
       "      <th>PROD_NBR</th>\n",
       "      <th>PROD_NAME</th>\n",
       "      <th>PROD_QTY</th>\n",
       "      <th>TOT_SALES</th>\n",
       "    </tr>\n",
       "  </thead>\n",
       "  <tbody>\n",
       "    <tr>\n",
       "      <th>0</th>\n",
       "      <td>2018-10-17</td>\n",
       "      <td>1</td>\n",
       "      <td>1000</td>\n",
       "      <td>1</td>\n",
       "      <td>5</td>\n",
       "      <td>Natural Chip        Compny SeaSalt175g</td>\n",
       "      <td>2</td>\n",
       "      <td>6.0</td>\n",
       "    </tr>\n",
       "    <tr>\n",
       "      <th>1</th>\n",
       "      <td>2019-05-14</td>\n",
       "      <td>1</td>\n",
       "      <td>1307</td>\n",
       "      <td>348</td>\n",
       "      <td>66</td>\n",
       "      <td>CCs Nacho Cheese    175g</td>\n",
       "      <td>3</td>\n",
       "      <td>6.3</td>\n",
       "    </tr>\n",
       "    <tr>\n",
       "      <th>2</th>\n",
       "      <td>2019-05-20</td>\n",
       "      <td>1</td>\n",
       "      <td>1343</td>\n",
       "      <td>383</td>\n",
       "      <td>61</td>\n",
       "      <td>Smiths Crinkle Cut  Chips Chicken 170g</td>\n",
       "      <td>2</td>\n",
       "      <td>2.9</td>\n",
       "    </tr>\n",
       "    <tr>\n",
       "      <th>3</th>\n",
       "      <td>2018-08-17</td>\n",
       "      <td>2</td>\n",
       "      <td>2373</td>\n",
       "      <td>974</td>\n",
       "      <td>69</td>\n",
       "      <td>Smiths Chip Thinly  S/Cream&amp;Onion 175g</td>\n",
       "      <td>5</td>\n",
       "      <td>15.0</td>\n",
       "    </tr>\n",
       "    <tr>\n",
       "      <th>4</th>\n",
       "      <td>2018-08-18</td>\n",
       "      <td>2</td>\n",
       "      <td>2426</td>\n",
       "      <td>1038</td>\n",
       "      <td>108</td>\n",
       "      <td>Kettle Tortilla ChpsHny&amp;Jlpno Chili 150g</td>\n",
       "      <td>3</td>\n",
       "      <td>13.8</td>\n",
       "    </tr>\n",
       "    <tr>\n",
       "      <th>...</th>\n",
       "      <td>...</td>\n",
       "      <td>...</td>\n",
       "      <td>...</td>\n",
       "      <td>...</td>\n",
       "      <td>...</td>\n",
       "      <td>...</td>\n",
       "      <td>...</td>\n",
       "      <td>...</td>\n",
       "    </tr>\n",
       "    <tr>\n",
       "      <th>264831</th>\n",
       "      <td>2019-03-09</td>\n",
       "      <td>272</td>\n",
       "      <td>272319</td>\n",
       "      <td>270088</td>\n",
       "      <td>89</td>\n",
       "      <td>Kettle Sweet Chilli And Sour Cream 175g</td>\n",
       "      <td>2</td>\n",
       "      <td>10.8</td>\n",
       "    </tr>\n",
       "    <tr>\n",
       "      <th>264832</th>\n",
       "      <td>2018-08-13</td>\n",
       "      <td>272</td>\n",
       "      <td>272358</td>\n",
       "      <td>270154</td>\n",
       "      <td>74</td>\n",
       "      <td>Tostitos Splash Of  Lime 175g</td>\n",
       "      <td>1</td>\n",
       "      <td>4.4</td>\n",
       "    </tr>\n",
       "    <tr>\n",
       "      <th>264833</th>\n",
       "      <td>2018-11-06</td>\n",
       "      <td>272</td>\n",
       "      <td>272379</td>\n",
       "      <td>270187</td>\n",
       "      <td>51</td>\n",
       "      <td>Doritos Mexicana    170g</td>\n",
       "      <td>2</td>\n",
       "      <td>8.8</td>\n",
       "    </tr>\n",
       "    <tr>\n",
       "      <th>264834</th>\n",
       "      <td>2018-12-27</td>\n",
       "      <td>272</td>\n",
       "      <td>272379</td>\n",
       "      <td>270188</td>\n",
       "      <td>42</td>\n",
       "      <td>Doritos Corn Chip Mexican Jalapeno 150g</td>\n",
       "      <td>2</td>\n",
       "      <td>7.8</td>\n",
       "    </tr>\n",
       "    <tr>\n",
       "      <th>264835</th>\n",
       "      <td>2018-09-22</td>\n",
       "      <td>272</td>\n",
       "      <td>272380</td>\n",
       "      <td>270189</td>\n",
       "      <td>74</td>\n",
       "      <td>Tostitos Splash Of  Lime 175g</td>\n",
       "      <td>2</td>\n",
       "      <td>8.8</td>\n",
       "    </tr>\n",
       "  </tbody>\n",
       "</table>\n",
       "<p>246740 rows × 8 columns</p>\n",
       "</div>"
      ],
      "text/plain": [
       "             DATE  STORE_NBR  LYLTY_CARD_NBR  TXN_ID  PROD_NBR  \\\n",
       "0      2018-10-17          1            1000       1         5   \n",
       "1      2019-05-14          1            1307     348        66   \n",
       "2      2019-05-20          1            1343     383        61   \n",
       "3      2018-08-17          2            2373     974        69   \n",
       "4      2018-08-18          2            2426    1038       108   \n",
       "...           ...        ...             ...     ...       ...   \n",
       "264831 2019-03-09        272          272319  270088        89   \n",
       "264832 2018-08-13        272          272358  270154        74   \n",
       "264833 2018-11-06        272          272379  270187        51   \n",
       "264834 2018-12-27        272          272379  270188        42   \n",
       "264835 2018-09-22        272          272380  270189        74   \n",
       "\n",
       "                                       PROD_NAME  PROD_QTY  TOT_SALES  \n",
       "0         Natural Chip        Compny SeaSalt175g         2        6.0  \n",
       "1                       CCs Nacho Cheese    175g         3        6.3  \n",
       "2         Smiths Crinkle Cut  Chips Chicken 170g         2        2.9  \n",
       "3         Smiths Chip Thinly  S/Cream&Onion 175g         5       15.0  \n",
       "4       Kettle Tortilla ChpsHny&Jlpno Chili 150g         3       13.8  \n",
       "...                                          ...       ...        ...  \n",
       "264831   Kettle Sweet Chilli And Sour Cream 175g         2       10.8  \n",
       "264832             Tostitos Splash Of  Lime 175g         1        4.4  \n",
       "264833                  Doritos Mexicana    170g         2        8.8  \n",
       "264834   Doritos Corn Chip Mexican Jalapeno 150g         2        7.8  \n",
       "264835             Tostitos Splash Of  Lime 175g         2        8.8  \n",
       "\n",
       "[246740 rows x 8 columns]"
      ]
     },
     "execution_count": 459,
     "metadata": {},
     "output_type": "execute_result"
    }
   ],
   "source": [
    "#identify the purchase history of the same customer\n",
    "\n",
    "transactionData[-(transactionData.LYLTY_CARD_NBR == 226000)]"
   ]
  },
  {
   "cell_type": "code",
   "execution_count": 460,
   "metadata": {},
   "outputs": [],
   "source": [
    "#remove outlier customer information out of our data\n",
    "\n",
    "transactionData = transactionData[-(transactionData.LYLTY_CARD_NBR == 226000)]"
   ]
  },
  {
   "cell_type": "code",
   "execution_count": 461,
   "metadata": {
    "scrolled": true
   },
   "outputs": [
    {
     "data": {
      "text/html": [
       "<div>\n",
       "<style scoped>\n",
       "    .dataframe tbody tr th:only-of-type {\n",
       "        vertical-align: middle;\n",
       "    }\n",
       "\n",
       "    .dataframe tbody tr th {\n",
       "        vertical-align: top;\n",
       "    }\n",
       "\n",
       "    .dataframe thead th {\n",
       "        text-align: right;\n",
       "    }\n",
       "</style>\n",
       "<table border=\"1\" class=\"dataframe\">\n",
       "  <thead>\n",
       "    <tr style=\"text-align: right;\">\n",
       "      <th></th>\n",
       "      <th>DATE</th>\n",
       "      <th>STORE_NBR</th>\n",
       "      <th>LYLTY_CARD_NBR</th>\n",
       "      <th>TXN_ID</th>\n",
       "      <th>PROD_NBR</th>\n",
       "      <th>PROD_NAME</th>\n",
       "      <th>PROD_QTY</th>\n",
       "      <th>TOT_SALES</th>\n",
       "    </tr>\n",
       "  </thead>\n",
       "  <tbody>\n",
       "  </tbody>\n",
       "</table>\n",
       "</div>"
      ],
      "text/plain": [
       "Empty DataFrame\n",
       "Columns: [DATE, STORE_NBR, LYLTY_CARD_NBR, TXN_ID, PROD_NBR, PROD_NAME, PROD_QTY, TOT_SALES]\n",
       "Index: []"
      ]
     },
     "execution_count": 461,
     "metadata": {},
     "output_type": "execute_result"
    }
   ],
   "source": [
    "#proof of 226000 customer got rid of\n",
    "\n",
    "transactionData[(transactionData.LYLTY_CARD_NBR == 226000)]"
   ]
  },
  {
   "cell_type": "markdown",
   "metadata": {},
   "source": [
    "It looks like this customer has only had the two transactions over the year and is\n",
    "not an ordinary retail customer. The customer might be buying chips for commercial\n",
    "purposes instead. We'll remove this loyalty card number from further analysis.\n",
    "Since we don't see any observation, we successfully eliminated outliers"
   ]
  },
  {
   "cell_type": "code",
   "execution_count": 462,
   "metadata": {
    "scrolled": true
   },
   "outputs": [
    {
     "data": {
      "text/html": [
       "<div>\n",
       "<style scoped>\n",
       "    .dataframe tbody tr th:only-of-type {\n",
       "        vertical-align: middle;\n",
       "    }\n",
       "\n",
       "    .dataframe tbody tr th {\n",
       "        vertical-align: top;\n",
       "    }\n",
       "\n",
       "    .dataframe thead th {\n",
       "        text-align: right;\n",
       "    }\n",
       "</style>\n",
       "<table border=\"1\" class=\"dataframe\">\n",
       "  <thead>\n",
       "    <tr style=\"text-align: right;\">\n",
       "      <th></th>\n",
       "      <th>STORE_NBR</th>\n",
       "      <th>LYLTY_CARD_NBR</th>\n",
       "      <th>TXN_ID</th>\n",
       "      <th>PROD_NBR</th>\n",
       "      <th>PROD_NAME</th>\n",
       "      <th>PROD_QTY</th>\n",
       "      <th>TOT_SALES</th>\n",
       "    </tr>\n",
       "    <tr>\n",
       "      <th>DATE</th>\n",
       "      <th></th>\n",
       "      <th></th>\n",
       "      <th></th>\n",
       "      <th></th>\n",
       "      <th></th>\n",
       "      <th></th>\n",
       "      <th></th>\n",
       "    </tr>\n",
       "  </thead>\n",
       "  <tbody>\n",
       "    <tr>\n",
       "      <th>2018-07-01</th>\n",
       "      <td>663</td>\n",
       "      <td>663</td>\n",
       "      <td>663</td>\n",
       "      <td>663</td>\n",
       "      <td>663</td>\n",
       "      <td>663</td>\n",
       "      <td>663</td>\n",
       "    </tr>\n",
       "    <tr>\n",
       "      <th>2018-07-02</th>\n",
       "      <td>650</td>\n",
       "      <td>650</td>\n",
       "      <td>650</td>\n",
       "      <td>650</td>\n",
       "      <td>650</td>\n",
       "      <td>650</td>\n",
       "      <td>650</td>\n",
       "    </tr>\n",
       "    <tr>\n",
       "      <th>2018-07-03</th>\n",
       "      <td>674</td>\n",
       "      <td>674</td>\n",
       "      <td>674</td>\n",
       "      <td>674</td>\n",
       "      <td>674</td>\n",
       "      <td>674</td>\n",
       "      <td>674</td>\n",
       "    </tr>\n",
       "    <tr>\n",
       "      <th>2018-07-04</th>\n",
       "      <td>669</td>\n",
       "      <td>669</td>\n",
       "      <td>669</td>\n",
       "      <td>669</td>\n",
       "      <td>669</td>\n",
       "      <td>669</td>\n",
       "      <td>669</td>\n",
       "    </tr>\n",
       "    <tr>\n",
       "      <th>2018-07-05</th>\n",
       "      <td>660</td>\n",
       "      <td>660</td>\n",
       "      <td>660</td>\n",
       "      <td>660</td>\n",
       "      <td>660</td>\n",
       "      <td>660</td>\n",
       "      <td>660</td>\n",
       "    </tr>\n",
       "    <tr>\n",
       "      <th>...</th>\n",
       "      <td>...</td>\n",
       "      <td>...</td>\n",
       "      <td>...</td>\n",
       "      <td>...</td>\n",
       "      <td>...</td>\n",
       "      <td>...</td>\n",
       "      <td>...</td>\n",
       "    </tr>\n",
       "    <tr>\n",
       "      <th>2019-06-26</th>\n",
       "      <td>657</td>\n",
       "      <td>657</td>\n",
       "      <td>657</td>\n",
       "      <td>657</td>\n",
       "      <td>657</td>\n",
       "      <td>657</td>\n",
       "      <td>657</td>\n",
       "    </tr>\n",
       "    <tr>\n",
       "      <th>2019-06-27</th>\n",
       "      <td>669</td>\n",
       "      <td>669</td>\n",
       "      <td>669</td>\n",
       "      <td>669</td>\n",
       "      <td>669</td>\n",
       "      <td>669</td>\n",
       "      <td>669</td>\n",
       "    </tr>\n",
       "    <tr>\n",
       "      <th>2019-06-28</th>\n",
       "      <td>673</td>\n",
       "      <td>673</td>\n",
       "      <td>673</td>\n",
       "      <td>673</td>\n",
       "      <td>673</td>\n",
       "      <td>673</td>\n",
       "      <td>673</td>\n",
       "    </tr>\n",
       "    <tr>\n",
       "      <th>2019-06-29</th>\n",
       "      <td>703</td>\n",
       "      <td>703</td>\n",
       "      <td>703</td>\n",
       "      <td>703</td>\n",
       "      <td>703</td>\n",
       "      <td>703</td>\n",
       "      <td>703</td>\n",
       "    </tr>\n",
       "    <tr>\n",
       "      <th>2019-06-30</th>\n",
       "      <td>704</td>\n",
       "      <td>704</td>\n",
       "      <td>704</td>\n",
       "      <td>704</td>\n",
       "      <td>704</td>\n",
       "      <td>704</td>\n",
       "      <td>704</td>\n",
       "    </tr>\n",
       "  </tbody>\n",
       "</table>\n",
       "<p>364 rows × 7 columns</p>\n",
       "</div>"
      ],
      "text/plain": [
       "            STORE_NBR  LYLTY_CARD_NBR  TXN_ID  PROD_NBR  PROD_NAME  PROD_QTY  \\\n",
       "DATE                                                                           \n",
       "2018-07-01        663             663     663       663        663       663   \n",
       "2018-07-02        650             650     650       650        650       650   \n",
       "2018-07-03        674             674     674       674        674       674   \n",
       "2018-07-04        669             669     669       669        669       669   \n",
       "2018-07-05        660             660     660       660        660       660   \n",
       "...               ...             ...     ...       ...        ...       ...   \n",
       "2019-06-26        657             657     657       657        657       657   \n",
       "2019-06-27        669             669     669       669        669       669   \n",
       "2019-06-28        673             673     673       673        673       673   \n",
       "2019-06-29        703             703     703       703        703       703   \n",
       "2019-06-30        704             704     704       704        704       704   \n",
       "\n",
       "            TOT_SALES  \n",
       "DATE                   \n",
       "2018-07-01        663  \n",
       "2018-07-02        650  \n",
       "2018-07-03        674  \n",
       "2018-07-04        669  \n",
       "2018-07-05        660  \n",
       "...               ...  \n",
       "2019-06-26        657  \n",
       "2019-06-27        669  \n",
       "2019-06-28        673  \n",
       "2019-06-29        703  \n",
       "2019-06-30        704  \n",
       "\n",
       "[364 rows x 7 columns]"
      ]
     },
     "execution_count": 462,
     "metadata": {},
     "output_type": "execute_result"
    }
   ],
   "source": [
    "#count all transacdtions by dates\n",
    "countTransaction = transactionData.groupby('DATE').count()\n",
    "countTransaction"
   ]
  },
  {
   "cell_type": "markdown",
   "metadata": {},
   "source": [
    "There's only 364 rows, meaning only 364 dates which indicates a missing date. Let's\n",
    "create a sequence of dates from 1 Jul 2018 to 30 Jun 2019 and use this to create a\n",
    "chart of number of transactions over time to find the missing date."
   ]
  },
  {
   "cell_type": "code",
   "execution_count": 463,
   "metadata": {},
   "outputs": [
    {
     "data": {
      "text/plain": [
       "DatetimeIndex(['2018-12-25'], dtype='datetime64[ns]', freq=None)"
      ]
     },
     "execution_count": 463,
     "metadata": {},
     "output_type": "execute_result"
    }
   ],
   "source": [
    "#find missing dates\n",
    "pd.date_range(start = '2018-07-01', end = '2019-06-30').difference(countTransaction.index)"
   ]
  },
  {
   "cell_type": "code",
   "execution_count": 464,
   "metadata": {},
   "outputs": [],
   "source": [
    "#add missing date and values to the row\n",
    "countTransaction.loc['2018-12-25'] = 0"
   ]
  },
  {
   "cell_type": "code",
   "execution_count": 465,
   "metadata": {},
   "outputs": [],
   "source": [
    "#move back 'DATE' index back to data set and sort by Date.\n",
    "countTransaction = countTransaction.reset_index().sort_values('DATE')"
   ]
  },
  {
   "cell_type": "code",
   "execution_count": 466,
   "metadata": {},
   "outputs": [
    {
     "name": "stdout",
     "output_type": "stream",
     "text": [
      "<class 'pandas.core.frame.DataFrame'>\n",
      "Int64Index: 365 entries, 0 to 363\n",
      "Data columns (total 8 columns):\n",
      " #   Column          Non-Null Count  Dtype         \n",
      "---  ------          --------------  -----         \n",
      " 0   DATE            365 non-null    datetime64[ns]\n",
      " 1   STORE_NBR       365 non-null    int64         \n",
      " 2   LYLTY_CARD_NBR  365 non-null    int64         \n",
      " 3   TXN_ID          365 non-null    int64         \n",
      " 4   PROD_NBR        365 non-null    int64         \n",
      " 5   PROD_NAME       365 non-null    int64         \n",
      " 6   PROD_QTY        365 non-null    int64         \n",
      " 7   TOT_SALES       365 non-null    int64         \n",
      "dtypes: datetime64[ns](1), int64(7)\n",
      "memory usage: 25.7 KB\n"
     ]
    }
   ],
   "source": [
    "#check if DATE label is returned to a variable\n",
    "countTransaction.info()"
   ]
  },
  {
   "cell_type": "code",
   "execution_count": 467,
   "metadata": {
    "scrolled": true
   },
   "outputs": [
    {
     "data": {
      "image/png": "[encoded data removed]",
      "text/plain": [
       "<Figure size 640x480 with 1 Axes>"
      ]
     },
     "metadata": {},
     "output_type": "display_data"
    },
    {
     "data": {
      "text/plain": [
       "<ggplot: (136681193177)>"
      ]
     },
     "execution_count": 467,
     "metadata": {},
     "output_type": "execute_result"
    }
   ],
   "source": [
    "#show transactions per month graph\n",
    "(\n",
    "    ggplot(countTransaction)\n",
    "    + aes(x = 'DATE', y = 'TOT_SALES')\n",
    "    + geom_point()\n",
    "    + labs(x = \"Day\", y = \"Number of Transactions\", title = \"Transactions over time\")\n",
    "    + ylim(0, 1000)\n",
    "    #+ ylim()\n",
    "    #+ scale_x_date(breaks = '1 month', labels = '%d')\n",
    ")"
   ]
  },
  {
   "cell_type": "markdown",
   "metadata": {},
   "source": [
    "The graph shows two 0 values we put due to 0 sales in holidays, and abnormal higher transactions before the holidays."
   ]
  },
  {
   "cell_type": "code",
   "execution_count": 468,
   "metadata": {},
   "outputs": [
    {
     "name": "stderr",
     "output_type": "stream",
     "text": [
      "C:\\Users\\jang\\anaconda3\\lib\\site-packages\\plotnine\\geoms\\geom_path.py:75: PlotnineWarning: geom_path: Removed 334 rows containing missing values.\n"
     ]
    },
    {
     "data": {
      "image/png": "[encoded data removed]",
      "text/plain": [
       "<Figure size 640x480 with 1 Axes>"
      ]
     },
     "metadata": {},
     "output_type": "display_data"
    },
    {
     "data": {
      "text/plain": [
       "<ggplot: (136680292566)>"
      ]
     },
     "execution_count": 468,
     "metadata": {},
     "output_type": "execute_result"
    }
   ],
   "source": [
    "#look closer between dec 01 - dec 31\n",
    "(\n",
    "    ggplot(countTransaction)\n",
    "    + aes(x = 'DATE', y = 'TOT_SALES')\n",
    "    + geom_line()\n",
    "    + labs(x = \"Day\", y = \"Transactions\", title = \"Transactions over Time\")\n",
    "    + ylim(0, 1000)\n",
    "    #+ xlim('2018-12-01', '2018-12-31')\n",
    "    + scale_x_date(limits = ('2018-12-01', '2018-12-31'))\n",
    ")"
   ]
  },
  {
   "cell_type": "code",
   "execution_count": 469,
   "metadata": {},
   "outputs": [
    {
     "name": "stderr",
     "output_type": "stream",
     "text": [
      "<ipython-input-469-b381662de2fe>:2: SettingWithCopyWarning: \n",
      "A value is trying to be set on a copy of a slice from a DataFrame.\n",
      "Try using .loc[row_indexer,col_indexer] = value instead\n",
      "\n",
      "See the caveats in the documentation: https://pandas.pydata.org/pandas-docs/stable/user_guide/indexing.html#returning-a-view-versus-a-copy\n"
     ]
    }
   ],
   "source": [
    "#extract product weight from PROD_NAME\n",
    "transactionData[\"PACK_SIZE\"] = transactionData.PROD_NAME.str.extract(r'([0-9]+[gG])')[0].str.replace(\"[gG]\", \"\").astype(\"int64\")"
   ]
  },
  {
   "cell_type": "code",
   "execution_count": 470,
   "metadata": {},
   "outputs": [
    {
     "data": {
      "text/plain": [
       "0     175\n",
       "1     175\n",
       "2     170\n",
       "3     175\n",
       "4     150\n",
       "6     330\n",
       "7     210\n",
       "8     150\n",
       "9     210\n",
       "10    330\n",
       "Name: PACK_SIZE, dtype: int64"
      ]
     },
     "execution_count": 470,
     "metadata": {},
     "output_type": "execute_result"
    }
   ],
   "source": [
    "#check if it worked\n",
    "transactionData.PACK_SIZE.head(10)"
   ]
  },
  {
   "cell_type": "code",
   "execution_count": 471,
   "metadata": {},
   "outputs": [],
   "source": [
    "#try to create Weight variable with different methods.\n",
    "\n",
    "#transactionData.Weight = transactionData.PROD_NAME.str.extract(pat = r'[0-9][0-9][0-9][gG]')\n",
    "#splitted = transactionData.PROD_NAME.str.split(\" \")\n",
    "#takes way too long time to run. need better suggestion.\n",
    "#create Weight variable by dividing product name and the weight from PROD_NAME\n",
    "\n",
    "#    transactionData.PACK_SIZE = splitted[i][len(splitted[i]) - 1]"
   ]
  },
  {
   "cell_type": "code",
   "execution_count": 472,
   "metadata": {
    "scrolled": true
   },
   "outputs": [
    {
     "name": "stderr",
     "output_type": "stream",
     "text": [
      "C:\\Users\\jang\\anaconda3\\lib\\site-packages\\plotnine\\stats\\stat_bin.py:95: PlotnineWarning: 'stat_bin()' using 'bins = 389'. Pick better value with 'binwidth'.\n"
     ]
    },
    {
     "data": {
      "image/png": "[encoded data removed]",
      "text/plain": [
       "<Figure size 640x480 with 1 Axes>"
      ]
     },
     "metadata": {},
     "output_type": "display_data"
    },
    {
     "data": {
      "text/plain": [
       "<ggplot: (136696348907)>"
      ]
     },
     "execution_count": 472,
     "metadata": {},
     "output_type": "execute_result"
    }
   ],
   "source": [
    "#count the total transactins compared by pack sizes.\n",
    "(\n",
    "    ggplot(transactionData)\n",
    "    + aes(x = 'PACK_SIZE')\n",
    "    + geom_histogram()\n",
    "    + labs(x = \"Pack Size\", y = \"Count\", title = \"Number of Transactions by Pack Size\")\n",
    "    \n",
    ")"
   ]
  },
  {
   "cell_type": "code",
   "execution_count": 473,
   "metadata": {
    "scrolled": true
   },
   "outputs": [
    {
     "name": "stderr",
     "output_type": "stream",
     "text": [
      "<ipython-input-473-380aa1883118>:2: UserWarning: Pandas doesn't allow columns to be created via a new attribute name - see https://pandas.pydata.org/pandas-docs/stable/indexing.html#attribute-access\n"
     ]
    },
    {
     "data": {
      "text/plain": [
       "0     Natural\n",
       "1         CCs\n",
       "2      Smiths\n",
       "3      Smiths\n",
       "4      Kettle\n",
       "6      Smiths\n",
       "7       Grain\n",
       "8     Doritos\n",
       "9       Grain\n",
       "10     Smiths\n",
       "Name: 1, dtype: object"
      ]
     },
     "execution_count": 473,
     "metadata": {},
     "output_type": "execute_result"
    }
   ],
   "source": [
    "#extract brands by splitting first word of each rows\n",
    "transactionData.Brands = transactionData.PROD_NAME.str.split(r\"([A-Z][a-zA-Z]+)\", expand=True)[1]\n",
    "transactionData.Brands.head(10)"
   ]
  },
  {
   "cell_type": "markdown",
   "metadata": {},
   "source": [
    "Some of the brand names look like they are of the same brands - such as RED and\n",
    "RRD, which are both Red Rock Deli chips. Let's combine these together."
   ]
  },
  {
   "cell_type": "code",
   "execution_count": 474,
   "metadata": {
    "scrolled": true
   },
   "outputs": [
    {
     "data": {
      "text/plain": [
       "0          Natural\n",
       "1              CCs\n",
       "2           Smiths\n",
       "3           Smiths\n",
       "4           Kettle\n",
       "            ...   \n",
       "264831      Kettle\n",
       "264832    Tostitos\n",
       "264833     Doritos\n",
       "264834     Doritos\n",
       "264835    Tostitos\n",
       "Name: 1, Length: 246740, dtype: object"
      ]
     },
     "execution_count": 474,
     "metadata": {},
     "output_type": "execute_result"
    }
   ],
   "source": [
    "#Clean brand names\n",
    "transactionData.Brands.replace(\"RED\", \"RRD\")"
   ]
  },
  {
   "cell_type": "code",
   "execution_count": 475,
   "metadata": {},
   "outputs": [
    {
     "data": {
      "text/plain": [
       "[]"
      ]
     },
     "execution_count": 475,
     "metadata": {},
     "output_type": "execute_result"
    }
   ],
   "source": [
    "#check if it's done right\n",
    "[col for col in transactionData.Brands if 'RED' in col]"
   ]
  },
  {
   "cell_type": "code",
   "execution_count": 476,
   "metadata": {},
   "outputs": [
    {
     "data": {
      "text/plain": [
       "['Burger',\n",
       " 'CCs',\n",
       " 'Cheetos',\n",
       " 'Cheezels',\n",
       " 'Cobs',\n",
       " 'Dorito',\n",
       " 'Doritos',\n",
       " 'French',\n",
       " 'Grain',\n",
       " 'GrnWves',\n",
       " 'Infuzions',\n",
       " 'Infzns',\n",
       " 'Kettle',\n",
       " 'NCC',\n",
       " 'Natural',\n",
       " 'Pringles',\n",
       " 'RRD',\n",
       " 'Red',\n",
       " 'Smith',\n",
       " 'Smiths',\n",
       " 'Snbts',\n",
       " 'Sunbites',\n",
       " 'Thins',\n",
       " 'Tostitos',\n",
       " 'Twisties',\n",
       " 'Tyrrells',\n",
       " 'WW',\n",
       " 'Woolworths']"
      ]
     },
     "execution_count": 476,
     "metadata": {},
     "output_type": "execute_result"
    }
   ],
   "source": [
    "#find names that should be changed\n",
    "sorted(transactionData.Brands.unique())"
   ]
  },
  {
   "cell_type": "code",
   "execution_count": 477,
   "metadata": {},
   "outputs": [],
   "source": [
    "#fix brand names\n",
    "brandName = {\n",
    "             'Red':'RRD',\n",
    "             'Dorito':'Doritos',\n",
    "             'Infzns':'Infuzions',\n",
    "             'Smith':'Smiths',\n",
    "             'Snbts':'Sunbites',\n",
    "             'WW':'Woolworths'\n",
    "            }\n",
    "\n",
    "def clean_name(val):\n",
    "    if val in brandName:\n",
    "        return brandName[val]\n",
    "    else:\n",
    "        return val\n",
    "    \n",
    "transactionData.Brands = transactionData.Brands.apply(clean_name)"
   ]
  },
  {
   "cell_type": "code",
   "execution_count": 478,
   "metadata": {},
   "outputs": [
    {
     "data": {
      "text/plain": [
       "array(['Natural', 'CCs', 'Smiths', 'Kettle', 'Grain', 'Doritos',\n",
       "       'Twisties', 'Woolworths', 'Thins', 'Burger', 'NCC', 'Cheezels',\n",
       "       'Infuzions', 'RRD', 'Pringles', 'GrnWves', 'Tyrrells', 'Cobs',\n",
       "       'French', 'Tostitos', 'Cheetos', 'Sunbites'], dtype=object)"
      ]
     },
     "execution_count": 478,
     "metadata": {},
     "output_type": "execute_result"
    }
   ],
   "source": [
    "#check if applied appropriately\n",
    "transactionData.Brands.unique()"
   ]
  },
  {
   "cell_type": "code",
   "execution_count": 479,
   "metadata": {},
   "outputs": [
    {
     "data": {
      "text/html": [
       "<div>\n",
       "<style scoped>\n",
       "    .dataframe tbody tr th:only-of-type {\n",
       "        vertical-align: middle;\n",
       "    }\n",
       "\n",
       "    .dataframe tbody tr th {\n",
       "        vertical-align: top;\n",
       "    }\n",
       "\n",
       "    .dataframe thead th {\n",
       "        text-align: right;\n",
       "    }\n",
       "</style>\n",
       "<table border=\"1\" class=\"dataframe\">\n",
       "  <thead>\n",
       "    <tr style=\"text-align: right;\">\n",
       "      <th></th>\n",
       "      <th>LYLTY_CARD_NBR</th>\n",
       "      <th>LIFESTAGE</th>\n",
       "      <th>PREMIUM_CUSTOMER</th>\n",
       "    </tr>\n",
       "  </thead>\n",
       "  <tbody>\n",
       "    <tr>\n",
       "      <th>0</th>\n",
       "      <td>1000</td>\n",
       "      <td>YOUNG SINGLES/COUPLES</td>\n",
       "      <td>Premium</td>\n",
       "    </tr>\n",
       "    <tr>\n",
       "      <th>1</th>\n",
       "      <td>1002</td>\n",
       "      <td>YOUNG SINGLES/COUPLES</td>\n",
       "      <td>Mainstream</td>\n",
       "    </tr>\n",
       "    <tr>\n",
       "      <th>2</th>\n",
       "      <td>1003</td>\n",
       "      <td>YOUNG FAMILIES</td>\n",
       "      <td>Budget</td>\n",
       "    </tr>\n",
       "    <tr>\n",
       "      <th>3</th>\n",
       "      <td>1004</td>\n",
       "      <td>OLDER SINGLES/COUPLES</td>\n",
       "      <td>Mainstream</td>\n",
       "    </tr>\n",
       "    <tr>\n",
       "      <th>4</th>\n",
       "      <td>1005</td>\n",
       "      <td>MIDAGE SINGLES/COUPLES</td>\n",
       "      <td>Mainstream</td>\n",
       "    </tr>\n",
       "    <tr>\n",
       "      <th>5</th>\n",
       "      <td>1007</td>\n",
       "      <td>YOUNG SINGLES/COUPLES</td>\n",
       "      <td>Budget</td>\n",
       "    </tr>\n",
       "    <tr>\n",
       "      <th>6</th>\n",
       "      <td>1009</td>\n",
       "      <td>NEW FAMILIES</td>\n",
       "      <td>Premium</td>\n",
       "    </tr>\n",
       "    <tr>\n",
       "      <th>7</th>\n",
       "      <td>1010</td>\n",
       "      <td>YOUNG SINGLES/COUPLES</td>\n",
       "      <td>Mainstream</td>\n",
       "    </tr>\n",
       "    <tr>\n",
       "      <th>8</th>\n",
       "      <td>1011</td>\n",
       "      <td>OLDER SINGLES/COUPLES</td>\n",
       "      <td>Mainstream</td>\n",
       "    </tr>\n",
       "    <tr>\n",
       "      <th>9</th>\n",
       "      <td>1012</td>\n",
       "      <td>OLDER FAMILIES</td>\n",
       "      <td>Mainstream</td>\n",
       "    </tr>\n",
       "  </tbody>\n",
       "</table>\n",
       "</div>"
      ],
      "text/plain": [
       "   LYLTY_CARD_NBR               LIFESTAGE PREMIUM_CUSTOMER\n",
       "0            1000   YOUNG SINGLES/COUPLES          Premium\n",
       "1            1002   YOUNG SINGLES/COUPLES       Mainstream\n",
       "2            1003          YOUNG FAMILIES           Budget\n",
       "3            1004   OLDER SINGLES/COUPLES       Mainstream\n",
       "4            1005  MIDAGE SINGLES/COUPLES       Mainstream\n",
       "5            1007   YOUNG SINGLES/COUPLES           Budget\n",
       "6            1009            NEW FAMILIES          Premium\n",
       "7            1010   YOUNG SINGLES/COUPLES       Mainstream\n",
       "8            1011   OLDER SINGLES/COUPLES       Mainstream\n",
       "9            1012          OLDER FAMILIES       Mainstream"
      ]
     },
     "execution_count": 479,
     "metadata": {},
     "output_type": "execute_result"
    }
   ],
   "source": [
    "#exploring customer data\n",
    "customerData.head(10)"
   ]
  },
  {
   "cell_type": "code",
   "execution_count": 480,
   "metadata": {},
   "outputs": [
    {
     "name": "stdout",
     "output_type": "stream",
     "text": [
      "<class 'pandas.core.frame.DataFrame'>\n",
      "RangeIndex: 72637 entries, 0 to 72636\n",
      "Data columns (total 3 columns):\n",
      " #   Column            Non-Null Count  Dtype \n",
      "---  ------            --------------  ----- \n",
      " 0   LYLTY_CARD_NBR    72637 non-null  int64 \n",
      " 1   LIFESTAGE         72637 non-null  object\n",
      " 2   PREMIUM_CUSTOMER  72637 non-null  object\n",
      "dtypes: int64(1), object(2)\n",
      "memory usage: 1.7+ MB\n"
     ]
    }
   ],
   "source": [
    "#exploring customer data\n",
    "customerData.info()"
   ]
  },
  {
   "cell_type": "code",
   "execution_count": 481,
   "metadata": {},
   "outputs": [
    {
     "data": {
      "text/plain": [
       "72637"
      ]
     },
     "execution_count": 481,
     "metadata": {},
     "output_type": "execute_result"
    }
   ],
   "source": [
    "#checking if all values in LYLTY_CARD_NBR are unique\n",
    "customerData['LYLTY_CARD_NBR'].nunique()"
   ]
  },
  {
   "cell_type": "markdown",
   "metadata": {},
   "source": [
    "As the number of rows in `customerData` is the same as that of `transactionData`, we can be\n",
    "sure that no duplicates were created. This is because we created `customerData` by setting\n",
    "`all.x = TRUE` (in other words, a left join) which means take all the rows in\n",
    "`transactionData` and find rows with matching values in shared columns and then\n",
    "joining the details in these rows to the `x` or the first mentioned table."
   ]
  },
  {
   "cell_type": "code",
   "execution_count": 524,
   "metadata": {},
   "outputs": [],
   "source": [
    "#merge dataset\n",
    "mergedData = pd.merge(transactionData, customerData, how='outer')"
   ]
  },
  {
   "cell_type": "code",
   "execution_count": 526,
   "metadata": {},
   "outputs": [],
   "source": [
    "mergedData = mergedData.dropna()"
   ]
  },
  {
   "cell_type": "code",
   "execution_count": 527,
   "metadata": {
    "scrolled": true
   },
   "outputs": [
    {
     "data": {
      "text/plain": [
       "71287"
      ]
     },
     "execution_count": 527,
     "metadata": {},
     "output_type": "execute_result"
    }
   ],
   "source": [
    "mergedData.LYLTY_CARD_NBR.nunique()"
   ]
  },
  {
   "cell_type": "code",
   "execution_count": 528,
   "metadata": {},
   "outputs": [
    {
     "data": {
      "text/html": [
       "<div>\n",
       "<style scoped>\n",
       "    .dataframe tbody tr th:only-of-type {\n",
       "        vertical-align: middle;\n",
       "    }\n",
       "\n",
       "    .dataframe tbody tr th {\n",
       "        vertical-align: top;\n",
       "    }\n",
       "\n",
       "    .dataframe thead th {\n",
       "        text-align: right;\n",
       "    }\n",
       "</style>\n",
       "<table border=\"1\" class=\"dataframe\">\n",
       "  <thead>\n",
       "    <tr style=\"text-align: right;\">\n",
       "      <th></th>\n",
       "      <th>DATE</th>\n",
       "      <th>STORE_NBR</th>\n",
       "      <th>LYLTY_CARD_NBR</th>\n",
       "      <th>TXN_ID</th>\n",
       "      <th>PROD_NBR</th>\n",
       "      <th>PROD_NAME</th>\n",
       "      <th>PROD_QTY</th>\n",
       "      <th>TOT_SALES</th>\n",
       "      <th>PACK_SIZE</th>\n",
       "      <th>LIFESTAGE</th>\n",
       "      <th>PREMIUM_CUSTOMER</th>\n",
       "    </tr>\n",
       "  </thead>\n",
       "  <tbody>\n",
       "    <tr>\n",
       "      <th>0</th>\n",
       "      <td>2018-10-17</td>\n",
       "      <td>1.0</td>\n",
       "      <td>1000</td>\n",
       "      <td>1.0</td>\n",
       "      <td>5.0</td>\n",
       "      <td>Natural Chip        Compny SeaSalt175g</td>\n",
       "      <td>2.0</td>\n",
       "      <td>6.0</td>\n",
       "      <td>175.0</td>\n",
       "      <td>YOUNG SINGLES/COUPLES</td>\n",
       "      <td>Premium</td>\n",
       "    </tr>\n",
       "    <tr>\n",
       "      <th>1</th>\n",
       "      <td>2019-05-14</td>\n",
       "      <td>1.0</td>\n",
       "      <td>1307</td>\n",
       "      <td>348.0</td>\n",
       "      <td>66.0</td>\n",
       "      <td>CCs Nacho Cheese    175g</td>\n",
       "      <td>3.0</td>\n",
       "      <td>6.3</td>\n",
       "      <td>175.0</td>\n",
       "      <td>MIDAGE SINGLES/COUPLES</td>\n",
       "      <td>Budget</td>\n",
       "    </tr>\n",
       "    <tr>\n",
       "      <th>2</th>\n",
       "      <td>2018-11-10</td>\n",
       "      <td>1.0</td>\n",
       "      <td>1307</td>\n",
       "      <td>346.0</td>\n",
       "      <td>96.0</td>\n",
       "      <td>WW Original Stacked Chips 160g</td>\n",
       "      <td>2.0</td>\n",
       "      <td>3.8</td>\n",
       "      <td>160.0</td>\n",
       "      <td>MIDAGE SINGLES/COUPLES</td>\n",
       "      <td>Budget</td>\n",
       "    </tr>\n",
       "    <tr>\n",
       "      <th>3</th>\n",
       "      <td>2019-03-09</td>\n",
       "      <td>1.0</td>\n",
       "      <td>1307</td>\n",
       "      <td>347.0</td>\n",
       "      <td>54.0</td>\n",
       "      <td>CCs Original 175g</td>\n",
       "      <td>1.0</td>\n",
       "      <td>2.1</td>\n",
       "      <td>175.0</td>\n",
       "      <td>MIDAGE SINGLES/COUPLES</td>\n",
       "      <td>Budget</td>\n",
       "    </tr>\n",
       "    <tr>\n",
       "      <th>4</th>\n",
       "      <td>2019-05-20</td>\n",
       "      <td>1.0</td>\n",
       "      <td>1343</td>\n",
       "      <td>383.0</td>\n",
       "      <td>61.0</td>\n",
       "      <td>Smiths Crinkle Cut  Chips Chicken 170g</td>\n",
       "      <td>2.0</td>\n",
       "      <td>2.9</td>\n",
       "      <td>170.0</td>\n",
       "      <td>MIDAGE SINGLES/COUPLES</td>\n",
       "      <td>Budget</td>\n",
       "    </tr>\n",
       "    <tr>\n",
       "      <th>5</th>\n",
       "      <td>2018-08-17</td>\n",
       "      <td>2.0</td>\n",
       "      <td>2373</td>\n",
       "      <td>974.0</td>\n",
       "      <td>69.0</td>\n",
       "      <td>Smiths Chip Thinly  S/Cream Onion 175g</td>\n",
       "      <td>5.0</td>\n",
       "      <td>15.0</td>\n",
       "      <td>175.0</td>\n",
       "      <td>MIDAGE SINGLES/COUPLES</td>\n",
       "      <td>Budget</td>\n",
       "    </tr>\n",
       "    <tr>\n",
       "      <th>6</th>\n",
       "      <td>2018-08-18</td>\n",
       "      <td>2.0</td>\n",
       "      <td>2426</td>\n",
       "      <td>1038.0</td>\n",
       "      <td>108.0</td>\n",
       "      <td>Kettle Tortilla ChpsHny Jlpno Chili 150g</td>\n",
       "      <td>3.0</td>\n",
       "      <td>13.8</td>\n",
       "      <td>150.0</td>\n",
       "      <td>MIDAGE SINGLES/COUPLES</td>\n",
       "      <td>Budget</td>\n",
       "    </tr>\n",
       "    <tr>\n",
       "      <th>7</th>\n",
       "      <td>2019-05-16</td>\n",
       "      <td>4.0</td>\n",
       "      <td>4149</td>\n",
       "      <td>3333.0</td>\n",
       "      <td>16.0</td>\n",
       "      <td>Smiths Crinkle Chips Salt   Vinegar 330g</td>\n",
       "      <td>1.0</td>\n",
       "      <td>5.7</td>\n",
       "      <td>330.0</td>\n",
       "      <td>MIDAGE SINGLES/COUPLES</td>\n",
       "      <td>Budget</td>\n",
       "    </tr>\n",
       "    <tr>\n",
       "      <th>8</th>\n",
       "      <td>2018-07-06</td>\n",
       "      <td>4.0</td>\n",
       "      <td>4149</td>\n",
       "      <td>3330.0</td>\n",
       "      <td>46.0</td>\n",
       "      <td>Kettle Original 175g</td>\n",
       "      <td>2.0</td>\n",
       "      <td>10.8</td>\n",
       "      <td>175.0</td>\n",
       "      <td>MIDAGE SINGLES/COUPLES</td>\n",
       "      <td>Budget</td>\n",
       "    </tr>\n",
       "    <tr>\n",
       "      <th>9</th>\n",
       "      <td>2018-07-18</td>\n",
       "      <td>4.0</td>\n",
       "      <td>4149</td>\n",
       "      <td>3331.0</td>\n",
       "      <td>112.0</td>\n",
       "      <td>Tyrrells Crisps     Ched   Chives 165g</td>\n",
       "      <td>2.0</td>\n",
       "      <td>8.4</td>\n",
       "      <td>165.0</td>\n",
       "      <td>MIDAGE SINGLES/COUPLES</td>\n",
       "      <td>Budget</td>\n",
       "    </tr>\n",
       "  </tbody>\n",
       "</table>\n",
       "</div>"
      ],
      "text/plain": [
       "        DATE  STORE_NBR  LYLTY_CARD_NBR  TXN_ID  PROD_NBR  \\\n",
       "0 2018-10-17        1.0            1000     1.0       5.0   \n",
       "1 2019-05-14        1.0            1307   348.0      66.0   \n",
       "2 2018-11-10        1.0            1307   346.0      96.0   \n",
       "3 2019-03-09        1.0            1307   347.0      54.0   \n",
       "4 2019-05-20        1.0            1343   383.0      61.0   \n",
       "5 2018-08-17        2.0            2373   974.0      69.0   \n",
       "6 2018-08-18        2.0            2426  1038.0     108.0   \n",
       "7 2019-05-16        4.0            4149  3333.0      16.0   \n",
       "8 2018-07-06        4.0            4149  3330.0      46.0   \n",
       "9 2018-07-18        4.0            4149  3331.0     112.0   \n",
       "\n",
       "                                  PROD_NAME  PROD_QTY  TOT_SALES  PACK_SIZE  \\\n",
       "0    Natural Chip        Compny SeaSalt175g       2.0        6.0      175.0   \n",
       "1                  CCs Nacho Cheese    175g       3.0        6.3      175.0   \n",
       "2            WW Original Stacked Chips 160g       2.0        3.8      160.0   \n",
       "3                         CCs Original 175g       1.0        2.1      175.0   \n",
       "4    Smiths Crinkle Cut  Chips Chicken 170g       2.0        2.9      170.0   \n",
       "5    Smiths Chip Thinly  S/Cream Onion 175g       5.0       15.0      175.0   \n",
       "6  Kettle Tortilla ChpsHny Jlpno Chili 150g       3.0       13.8      150.0   \n",
       "7  Smiths Crinkle Chips Salt   Vinegar 330g       1.0        5.7      330.0   \n",
       "8                      Kettle Original 175g       2.0       10.8      175.0   \n",
       "9    Tyrrells Crisps     Ched   Chives 165g       2.0        8.4      165.0   \n",
       "\n",
       "                LIFESTAGE PREMIUM_CUSTOMER  \n",
       "0   YOUNG SINGLES/COUPLES          Premium  \n",
       "1  MIDAGE SINGLES/COUPLES           Budget  \n",
       "2  MIDAGE SINGLES/COUPLES           Budget  \n",
       "3  MIDAGE SINGLES/COUPLES           Budget  \n",
       "4  MIDAGE SINGLES/COUPLES           Budget  \n",
       "5  MIDAGE SINGLES/COUPLES           Budget  \n",
       "6  MIDAGE SINGLES/COUPLES           Budget  \n",
       "7  MIDAGE SINGLES/COUPLES           Budget  \n",
       "8  MIDAGE SINGLES/COUPLES           Budget  \n",
       "9  MIDAGE SINGLES/COUPLES           Budget  "
      ]
     },
     "execution_count": 528,
     "metadata": {},
     "output_type": "execute_result"
    }
   ],
   "source": [
    "#check if applied properly\n",
    "mergedData.head(10)"
   ]
  },
  {
   "cell_type": "code",
   "execution_count": 529,
   "metadata": {},
   "outputs": [
    {
     "name": "stdout",
     "output_type": "stream",
     "text": [
      "<class 'pandas.core.frame.DataFrame'>\n",
      "Int64Index: 246740 entries, 0 to 246739\n",
      "Data columns (total 11 columns):\n",
      " #   Column            Non-Null Count   Dtype         \n",
      "---  ------            --------------   -----         \n",
      " 0   DATE              246740 non-null  datetime64[ns]\n",
      " 1   STORE_NBR         246740 non-null  float64       \n",
      " 2   LYLTY_CARD_NBR    246740 non-null  int64         \n",
      " 3   TXN_ID            246740 non-null  float64       \n",
      " 4   PROD_NBR          246740 non-null  float64       \n",
      " 5   PROD_NAME         246740 non-null  object        \n",
      " 6   PROD_QTY          246740 non-null  float64       \n",
      " 7   TOT_SALES         246740 non-null  float64       \n",
      " 8   PACK_SIZE         246740 non-null  float64       \n",
      " 9   LIFESTAGE         246740 non-null  object        \n",
      " 10  PREMIUM_CUSTOMER  246740 non-null  object        \n",
      "dtypes: datetime64[ns](1), float64(6), int64(1), object(3)\n",
      "memory usage: 22.6+ MB\n"
     ]
    }
   ],
   "source": [
    "#check for null\n",
    "mergedData.info()"
   ]
  },
  {
   "cell_type": "code",
   "execution_count": 486,
   "metadata": {},
   "outputs": [],
   "source": [
    "#save file for task 2\n",
    "mergedData.to_csv('QVI_data.csv')"
   ]
  },
  {
   "cell_type": "markdown",
   "metadata": {},
   "source": [
    "## Data analysis on customer segments\n",
    "Now that the data is ready for analysis, we can define some metrics of interest to the client:\n",
    "\n",
    "- Who spends the most on chips (total sales), describing customers by lifestage and how premium their general purchasing behaviour is\n",
    "- How many customers are in each segment\n",
    "- How many chips are bought per customer by segment\n",
    "- What's the average chip price by customer segment\n",
    "\n",
    "We could also ask our data team for more information. Examples are:\n",
    "\n",
    "- The customer's total spend over the period and total spend for each transaction to understand what proportion of their grocery spend is on chips\n",
    "\n",
    "- Proportion of customers in each customer segment overall to compare against the mix of customers who purchase chips\n",
    "\n",
    "Let's start with calculating total sales by LIFESTAGE and PREMIUM_CUSTOMER and\n",
    "plotting the split by these segments to describe which customer segment contribute\n",
    "most to chip sales."
   ]
  },
  {
   "cell_type": "code",
   "execution_count": 487,
   "metadata": {},
   "outputs": [
    {
     "data": {
      "text/plain": [
       "LIFESTAGE\n",
       "OLDER SINGLES/COUPLES     376019.65\n",
       "RETIREES                  342381.90\n",
       "OLDER FAMILIES            328519.90\n",
       "YOUNG FAMILIES            294627.90\n",
       "YOUNG SINGLES/COUPLES     243756.60\n",
       "MIDAGE SINGLES/COUPLES    172523.80\n",
       "NEW FAMILIES               47347.95\n",
       "Name: TOT_SALES, dtype: float64"
      ]
     },
     "execution_count": 487,
     "metadata": {},
     "output_type": "execute_result"
    }
   ],
   "source": [
    "#Total Sale by LIFESTAGE\n",
    "totalbyLife = mergedData.groupby('LIFESTAGE').sum()['TOT_SALES']\n",
    "totalbyLife.sort_values(ascending = False)"
   ]
  },
  {
   "cell_type": "code",
   "execution_count": 488,
   "metadata": {},
   "outputs": [
    {
     "data": {
      "text/plain": [
       "PREMIUM_CUSTOMER\n",
       "Mainstream    700865.40\n",
       "Budget        631406.85\n",
       "Premium       472905.45\n",
       "Name: TOT_SALES, dtype: float64"
      ]
     },
     "execution_count": 488,
     "metadata": {},
     "output_type": "execute_result"
    }
   ],
   "source": [
    "#Total Sale by PREMIUM_CUSTOMER\n",
    "totalbyPremium = mergedData.groupby('PREMIUM_CUSTOMER').sum()['TOT_SALES']\n",
    "totalbyPremium.sort_values(ascending = False)"
   ]
  },
  {
   "cell_type": "code",
   "execution_count": 544,
   "metadata": {},
   "outputs": [
    {
     "data": {
      "text/html": [
       "<div>\n",
       "<style scoped>\n",
       "    .dataframe tbody tr th:only-of-type {\n",
       "        vertical-align: middle;\n",
       "    }\n",
       "\n",
       "    .dataframe tbody tr th {\n",
       "        vertical-align: top;\n",
       "    }\n",
       "\n",
       "    .dataframe thead th {\n",
       "        text-align: right;\n",
       "    }\n",
       "</style>\n",
       "<table border=\"1\" class=\"dataframe\">\n",
       "  <thead>\n",
       "    <tr style=\"text-align: right;\">\n",
       "      <th></th>\n",
       "      <th>LIFESTAGE</th>\n",
       "      <th>PREMIUM_CUSTOMER</th>\n",
       "      <th>TOT_SALES</th>\n",
       "    </tr>\n",
       "  </thead>\n",
       "  <tbody>\n",
       "    <tr>\n",
       "      <th>2</th>\n",
       "      <td>OLDER FAMILIES</td>\n",
       "      <td>Budget</td>\n",
       "      <td>156863.75</td>\n",
       "    </tr>\n",
       "    <tr>\n",
       "      <th>13</th>\n",
       "      <td>YOUNG SINGLES/COUPLES</td>\n",
       "      <td>Mainstream</td>\n",
       "      <td>147582.20</td>\n",
       "    </tr>\n",
       "    <tr>\n",
       "      <th>11</th>\n",
       "      <td>RETIREES</td>\n",
       "      <td>Mainstream</td>\n",
       "      <td>145168.95</td>\n",
       "    </tr>\n",
       "    <tr>\n",
       "      <th>5</th>\n",
       "      <td>YOUNG FAMILIES</td>\n",
       "      <td>Budget</td>\n",
       "      <td>129717.95</td>\n",
       "    </tr>\n",
       "    <tr>\n",
       "      <th>3</th>\n",
       "      <td>OLDER SINGLES/COUPLES</td>\n",
       "      <td>Budget</td>\n",
       "      <td>127833.60</td>\n",
       "    </tr>\n",
       "    <tr>\n",
       "      <th>10</th>\n",
       "      <td>OLDER SINGLES/COUPLES</td>\n",
       "      <td>Mainstream</td>\n",
       "      <td>124648.50</td>\n",
       "    </tr>\n",
       "    <tr>\n",
       "      <th>17</th>\n",
       "      <td>OLDER SINGLES/COUPLES</td>\n",
       "      <td>Premium</td>\n",
       "      <td>123537.55</td>\n",
       "    </tr>\n",
       "    <tr>\n",
       "      <th>4</th>\n",
       "      <td>RETIREES</td>\n",
       "      <td>Budget</td>\n",
       "      <td>105916.30</td>\n",
       "    </tr>\n",
       "    <tr>\n",
       "      <th>9</th>\n",
       "      <td>OLDER FAMILIES</td>\n",
       "      <td>Mainstream</td>\n",
       "      <td>96413.55</td>\n",
       "    </tr>\n",
       "    <tr>\n",
       "      <th>18</th>\n",
       "      <td>RETIREES</td>\n",
       "      <td>Premium</td>\n",
       "      <td>91296.65</td>\n",
       "    </tr>\n",
       "    <tr>\n",
       "      <th>12</th>\n",
       "      <td>YOUNG FAMILIES</td>\n",
       "      <td>Mainstream</td>\n",
       "      <td>86338.25</td>\n",
       "    </tr>\n",
       "    <tr>\n",
       "      <th>7</th>\n",
       "      <td>MIDAGE SINGLES/COUPLES</td>\n",
       "      <td>Mainstream</td>\n",
       "      <td>84734.25</td>\n",
       "    </tr>\n",
       "    <tr>\n",
       "      <th>19</th>\n",
       "      <td>YOUNG FAMILIES</td>\n",
       "      <td>Premium</td>\n",
       "      <td>78571.70</td>\n",
       "    </tr>\n",
       "    <tr>\n",
       "      <th>16</th>\n",
       "      <td>OLDER FAMILIES</td>\n",
       "      <td>Premium</td>\n",
       "      <td>75242.60</td>\n",
       "    </tr>\n",
       "    <tr>\n",
       "      <th>6</th>\n",
       "      <td>YOUNG SINGLES/COUPLES</td>\n",
       "      <td>Budget</td>\n",
       "      <td>57122.10</td>\n",
       "    </tr>\n",
       "    <tr>\n",
       "      <th>14</th>\n",
       "      <td>MIDAGE SINGLES/COUPLES</td>\n",
       "      <td>Premium</td>\n",
       "      <td>54443.85</td>\n",
       "    </tr>\n",
       "    <tr>\n",
       "      <th>20</th>\n",
       "      <td>YOUNG SINGLES/COUPLES</td>\n",
       "      <td>Premium</td>\n",
       "      <td>39052.30</td>\n",
       "    </tr>\n",
       "    <tr>\n",
       "      <th>0</th>\n",
       "      <td>MIDAGE SINGLES/COUPLES</td>\n",
       "      <td>Budget</td>\n",
       "      <td>33345.70</td>\n",
       "    </tr>\n",
       "    <tr>\n",
       "      <th>1</th>\n",
       "      <td>NEW FAMILIES</td>\n",
       "      <td>Budget</td>\n",
       "      <td>20607.45</td>\n",
       "    </tr>\n",
       "    <tr>\n",
       "      <th>8</th>\n",
       "      <td>NEW FAMILIES</td>\n",
       "      <td>Mainstream</td>\n",
       "      <td>15979.70</td>\n",
       "    </tr>\n",
       "    <tr>\n",
       "      <th>15</th>\n",
       "      <td>NEW FAMILIES</td>\n",
       "      <td>Premium</td>\n",
       "      <td>10760.80</td>\n",
       "    </tr>\n",
       "  </tbody>\n",
       "</table>\n",
       "</div>"
      ],
      "text/plain": [
       "                 LIFESTAGE PREMIUM_CUSTOMER  TOT_SALES\n",
       "2           OLDER FAMILIES           Budget  156863.75\n",
       "13   YOUNG SINGLES/COUPLES       Mainstream  147582.20\n",
       "11                RETIREES       Mainstream  145168.95\n",
       "5           YOUNG FAMILIES           Budget  129717.95\n",
       "3    OLDER SINGLES/COUPLES           Budget  127833.60\n",
       "10   OLDER SINGLES/COUPLES       Mainstream  124648.50\n",
       "17   OLDER SINGLES/COUPLES          Premium  123537.55\n",
       "4                 RETIREES           Budget  105916.30\n",
       "9           OLDER FAMILIES       Mainstream   96413.55\n",
       "18                RETIREES          Premium   91296.65\n",
       "12          YOUNG FAMILIES       Mainstream   86338.25\n",
       "7   MIDAGE SINGLES/COUPLES       Mainstream   84734.25\n",
       "19          YOUNG FAMILIES          Premium   78571.70\n",
       "16          OLDER FAMILIES          Premium   75242.60\n",
       "6    YOUNG SINGLES/COUPLES           Budget   57122.10\n",
       "14  MIDAGE SINGLES/COUPLES          Premium   54443.85\n",
       "20   YOUNG SINGLES/COUPLES          Premium   39052.30\n",
       "0   MIDAGE SINGLES/COUPLES           Budget   33345.70\n",
       "1             NEW FAMILIES           Budget   20607.45\n",
       "8             NEW FAMILIES       Mainstream   15979.70\n",
       "15            NEW FAMILIES          Premium   10760.80"
      ]
     },
     "execution_count": 544,
     "metadata": {},
     "output_type": "execute_result"
    }
   ],
   "source": [
    "#Total Sale by both LIFESTAGE and PREMIUM_CUSTOMER\n",
    "saleTotal = mergedData.groupby(['PREMIUM_CUSTOMER'] + ['LIFESTAGE'], as_index=False).sum()\n",
    "saleTotal.sort_values(by = 'TOT_SALES',ascending = False)[['LIFESTAGE', 'PREMIUM_CUSTOMER', 'TOT_SALES']]"
   ]
  },
  {
   "cell_type": "code",
   "execution_count": 545,
   "metadata": {
    "scrolled": true
   },
   "outputs": [
    {
     "data": {
      "image/png": "[encoded data removed]",
      "text/plain": [
       "<Figure size 640x480 with 1 Axes>"
      ]
     },
     "metadata": {},
     "output_type": "display_data"
    },
    {
     "data": {
      "text/plain": [
       "<ggplot: (136681207233)>"
      ]
     },
     "execution_count": 545,
     "metadata": {},
     "output_type": "execute_result"
    }
   ],
   "source": [
    "#bar plot of total sales by LIFESTAGE grouped by membership\n",
    "(\n",
    "    ggplot(saleTotal) +\n",
    "    geom_col(width = 0.6) +\n",
    "    aes(x = 'LIFESTAGE', y = 'TOT_SALES', fill = 'PREMIUM_CUSTOMER') +\n",
    "    labs(y = 'Total Sales', title = 'total sales by Lifestage and Customer Ranks') +\n",
    "    coord_flip()\n",
    ")"
   ]
  },
  {
   "cell_type": "markdown",
   "metadata": {},
   "source": [
    "Sales are coming mainly from Budget - older families, Mainstream - young\n",
    "singles/couples, and Mainstream - retirees\n",
    "Let's see if the higher sales are due to there being more customers who buy chips.\n"
   ]
  },
  {
   "cell_type": "code",
   "execution_count": 572,
   "metadata": {
    "scrolled": false
   },
   "outputs": [
    {
     "data": {
      "text/html": [
       "<div>\n",
       "<style scoped>\n",
       "    .dataframe tbody tr th:only-of-type {\n",
       "        vertical-align: middle;\n",
       "    }\n",
       "\n",
       "    .dataframe tbody tr th {\n",
       "        vertical-align: top;\n",
       "    }\n",
       "\n",
       "    .dataframe thead th {\n",
       "        text-align: right;\n",
       "    }\n",
       "</style>\n",
       "<table border=\"1\" class=\"dataframe\">\n",
       "  <thead>\n",
       "    <tr style=\"text-align: right;\">\n",
       "      <th></th>\n",
       "      <th>PREMIUM_CUSTOMER</th>\n",
       "      <th>LIFESTAGE</th>\n",
       "      <th>LYLTY_CARD_NBR</th>\n",
       "    </tr>\n",
       "  </thead>\n",
       "  <tbody>\n",
       "    <tr>\n",
       "      <th>13</th>\n",
       "      <td>Mainstream</td>\n",
       "      <td>YOUNG SINGLES/COUPLES</td>\n",
       "      <td>7917</td>\n",
       "    </tr>\n",
       "    <tr>\n",
       "      <th>11</th>\n",
       "      <td>Mainstream</td>\n",
       "      <td>RETIREES</td>\n",
       "      <td>6358</td>\n",
       "    </tr>\n",
       "    <tr>\n",
       "      <th>10</th>\n",
       "      <td>Mainstream</td>\n",
       "      <td>OLDER SINGLES/COUPLES</td>\n",
       "      <td>4858</td>\n",
       "    </tr>\n",
       "    <tr>\n",
       "      <th>3</th>\n",
       "      <td>Budget</td>\n",
       "      <td>OLDER SINGLES/COUPLES</td>\n",
       "      <td>4849</td>\n",
       "    </tr>\n",
       "    <tr>\n",
       "      <th>17</th>\n",
       "      <td>Premium</td>\n",
       "      <td>OLDER SINGLES/COUPLES</td>\n",
       "      <td>4682</td>\n",
       "    </tr>\n",
       "    <tr>\n",
       "      <th>2</th>\n",
       "      <td>Budget</td>\n",
       "      <td>OLDER FAMILIES</td>\n",
       "      <td>4611</td>\n",
       "    </tr>\n",
       "    <tr>\n",
       "      <th>4</th>\n",
       "      <td>Budget</td>\n",
       "      <td>RETIREES</td>\n",
       "      <td>4385</td>\n",
       "    </tr>\n",
       "    <tr>\n",
       "      <th>5</th>\n",
       "      <td>Budget</td>\n",
       "      <td>YOUNG FAMILIES</td>\n",
       "      <td>3953</td>\n",
       "    </tr>\n",
       "    <tr>\n",
       "      <th>18</th>\n",
       "      <td>Premium</td>\n",
       "      <td>RETIREES</td>\n",
       "      <td>3812</td>\n",
       "    </tr>\n",
       "    <tr>\n",
       "      <th>6</th>\n",
       "      <td>Budget</td>\n",
       "      <td>YOUNG SINGLES/COUPLES</td>\n",
       "      <td>3647</td>\n",
       "    </tr>\n",
       "    <tr>\n",
       "      <th>7</th>\n",
       "      <td>Mainstream</td>\n",
       "      <td>MIDAGE SINGLES/COUPLES</td>\n",
       "      <td>3298</td>\n",
       "    </tr>\n",
       "    <tr>\n",
       "      <th>9</th>\n",
       "      <td>Mainstream</td>\n",
       "      <td>OLDER FAMILIES</td>\n",
       "      <td>2788</td>\n",
       "    </tr>\n",
       "    <tr>\n",
       "      <th>12</th>\n",
       "      <td>Mainstream</td>\n",
       "      <td>YOUNG FAMILIES</td>\n",
       "      <td>2685</td>\n",
       "    </tr>\n",
       "    <tr>\n",
       "      <th>20</th>\n",
       "      <td>Premium</td>\n",
       "      <td>YOUNG SINGLES/COUPLES</td>\n",
       "      <td>2480</td>\n",
       "    </tr>\n",
       "    <tr>\n",
       "      <th>19</th>\n",
       "      <td>Premium</td>\n",
       "      <td>YOUNG FAMILIES</td>\n",
       "      <td>2398</td>\n",
       "    </tr>\n",
       "    <tr>\n",
       "      <th>14</th>\n",
       "      <td>Premium</td>\n",
       "      <td>MIDAGE SINGLES/COUPLES</td>\n",
       "      <td>2369</td>\n",
       "    </tr>\n",
       "    <tr>\n",
       "      <th>16</th>\n",
       "      <td>Premium</td>\n",
       "      <td>OLDER FAMILIES</td>\n",
       "      <td>2231</td>\n",
       "    </tr>\n",
       "    <tr>\n",
       "      <th>0</th>\n",
       "      <td>Budget</td>\n",
       "      <td>MIDAGE SINGLES/COUPLES</td>\n",
       "      <td>1474</td>\n",
       "    </tr>\n",
       "    <tr>\n",
       "      <th>1</th>\n",
       "      <td>Budget</td>\n",
       "      <td>NEW FAMILIES</td>\n",
       "      <td>1087</td>\n",
       "    </tr>\n",
       "    <tr>\n",
       "      <th>8</th>\n",
       "      <td>Mainstream</td>\n",
       "      <td>NEW FAMILIES</td>\n",
       "      <td>830</td>\n",
       "    </tr>\n",
       "    <tr>\n",
       "      <th>15</th>\n",
       "      <td>Premium</td>\n",
       "      <td>NEW FAMILIES</td>\n",
       "      <td>575</td>\n",
       "    </tr>\n",
       "  </tbody>\n",
       "</table>\n",
       "</div>"
      ],
      "text/plain": [
       "   PREMIUM_CUSTOMER               LIFESTAGE  LYLTY_CARD_NBR\n",
       "13       Mainstream   YOUNG SINGLES/COUPLES            7917\n",
       "11       Mainstream                RETIREES            6358\n",
       "10       Mainstream   OLDER SINGLES/COUPLES            4858\n",
       "3            Budget   OLDER SINGLES/COUPLES            4849\n",
       "17          Premium   OLDER SINGLES/COUPLES            4682\n",
       "2            Budget          OLDER FAMILIES            4611\n",
       "4            Budget                RETIREES            4385\n",
       "5            Budget          YOUNG FAMILIES            3953\n",
       "18          Premium                RETIREES            3812\n",
       "6            Budget   YOUNG SINGLES/COUPLES            3647\n",
       "7        Mainstream  MIDAGE SINGLES/COUPLES            3298\n",
       "9        Mainstream          OLDER FAMILIES            2788\n",
       "12       Mainstream          YOUNG FAMILIES            2685\n",
       "20          Premium   YOUNG SINGLES/COUPLES            2480\n",
       "19          Premium          YOUNG FAMILIES            2398\n",
       "14          Premium  MIDAGE SINGLES/COUPLES            2369\n",
       "16          Premium          OLDER FAMILIES            2231\n",
       "0            Budget  MIDAGE SINGLES/COUPLES            1474\n",
       "1            Budget            NEW FAMILIES            1087\n",
       "8        Mainstream            NEW FAMILIES             830\n",
       "15          Premium            NEW FAMILIES             575"
      ]
     },
     "execution_count": 572,
     "metadata": {},
     "output_type": "execute_result"
    }
   ],
   "source": [
    "#number of customers by groups\n",
    "countbyBoth = mergedData.groupby(['PREMIUM_CUSTOMER'] + ['LIFESTAGE'], as_index = False)[\"LYLTY_CARD_NBR\"].nunique()\n",
    "countbyBoth = countbyBoth.sort_values(by = 'LYLTY_CARD_NBR', ascending=False)\n",
    "countbyBoth"
   ]
  },
  {
   "cell_type": "code",
   "execution_count": 573,
   "metadata": {
    "scrolled": false
   },
   "outputs": [
    {
     "data": {
      "image/png": "[encoded data removed]",
      "text/plain": [
       "<Figure size 640x480 with 1 Axes>"
      ]
     },
     "metadata": {},
     "output_type": "display_data"
    },
    {
     "data": {
      "text/plain": [
       "<ggplot: (136671003477)>"
      ]
     },
     "execution_count": 573,
     "metadata": {},
     "output_type": "execute_result"
    }
   ],
   "source": [
    "#graph of number of customers by group\n",
    "(\n",
    "    ggplot(countbyBoth, aes(x = 'LIFESTAGE', y = 'LYLTY_CARD_NBR', groupby = 'PREMIUM_CUSTOMER', fill = 'PREMIUM_CUSTOMER')) +\n",
    "    geom_col(position = 'dodge') +\n",
    "    labs(y = \"Number of Customers\", x = '', title = 'Number of Customers by Lifestage and Ranks') +\n",
    "    coord_flip()\n",
    ")"
   ]
  },
  {
   "cell_type": "markdown",
   "metadata": {},
   "source": [
    "There are more Mainstream - young singles/couples and Mainstream - retirees who buy\n",
    "chips. This contributes to there being more sales to these customer segments but\n",
    "this is not a major driver for the Budget - Older families segment.\n",
    "Higher sales may also be driven by more units of chips being bought per customer.\n",
    "Let's have a look at this next."
   ]
  },
  {
   "cell_type": "code",
   "execution_count": 494,
   "metadata": {
    "scrolled": false
   },
   "outputs": [],
   "source": [
    "#totalbyBoth = mergedData.pivot(columns = ('LIFESTAGE', 'PREMIUM_CUSTOMER'), values = 'TOT_SALES').agg('sum')\n",
    "\n",
    "PROD_QTY_AVE = mergedData.groupby(['PREMIUM_CUSTOMER'] + ['LIFESTAGE'], as_index=False).mean().sort_values('PROD_QTY')\n"
   ]
  },
  {
   "cell_type": "code",
   "execution_count": 495,
   "metadata": {
    "scrolled": false
   },
   "outputs": [
    {
     "data": {
      "image/png": "[encoded data removed]",
      "text/plain": [
       "<Figure size 640x480 with 3 Axes>"
      ]
     },
     "metadata": {},
     "output_type": "display_data"
    },
    {
     "data": {
      "text/plain": [
       "<ggplot: (136675079753)>"
      ]
     },
     "execution_count": 495,
     "metadata": {},
     "output_type": "execute_result"
    }
   ],
   "source": [
    "# plot the average number of units per customer by those two dimensions.\n",
    "(\n",
    "    ggplot(PROD_QTY_AVE) +\n",
    "    #ggplot(mergedData, aes(x = 'LIFESTAGE', y = 'PROD_QTY_AVE', groupby = 'PREMIUM_CUSTOMER', fill = 'PREMIUM_CUSTOMER')) +\n",
    "    geom_col(aes(x = 'LIFESTAGE' , y = 'PROD_QTY', fill = 'LIFESTAGE'), width = 0.5) +\n",
    "    labs(y = \"Average Production Quantity\", x = '', title = 'Average Number of Units Per Customer by Life Stage and Customer Ranks') +\n",
    "    facet_grid('PREMIUM_CUSTOMER ~ .') +\n",
    "    coord_flip()\n",
    ")"
   ]
  },
  {
   "cell_type": "markdown",
   "metadata": {},
   "source": [
    "Older families and young families in general buy more chips per customer\n",
    "Let's also investigate the average price per unit chips bought for each customer\n",
    "segment as this is also a driver of total sales."
   ]
  },
  {
   "cell_type": "code",
   "execution_count": 587,
   "metadata": {},
   "outputs": [
    {
     "data": {
      "text/plain": [
       "[   PREMIUM_CUSTOMER              LIFESTAGE  PROD_QTY\n",
       " 13       Mainstream  YOUNG SINGLES/COUPLES  1.853510\n",
       " 6            Budget  YOUNG SINGLES/COUPLES  1.808002\n",
       " 20          Premium  YOUNG SINGLES/COUPLES  1.807075,\n",
       "    PREMIUM_CUSTOMER               LIFESTAGE  PROD_QTY\n",
       " 0            Budget  MIDAGE SINGLES/COUPLES  1.893626\n",
       " 14          Premium  MIDAGE SINGLES/COUPLES  1.891750\n",
       " 7        Mainstream  MIDAGE SINGLES/COUPLES  1.911942]"
      ]
     },
     "execution_count": 587,
     "metadata": {},
     "output_type": "execute_result"
    }
   ],
   "source": [
    "test_sample = mergedData.groupby(['PREMIUM_CUSTOMER'] + ['LIFESTAGE'], as_index=False).mean()[['PREMIUM_CUSTOMER', 'LIFESTAGE', 'PROD_QTY']]\n",
    "test_sample_young = test_sample.sort_values(by = 'LIFESTAGE')[18:21]\n",
    "test_sample_midage = test_sample.sort_values(by = 'LIFESTAGE')[0:3]\n",
    "[test_sample_young, test_sample_midage]"
   ]
  },
  {
   "cell_type": "code",
   "execution_count": 597,
   "metadata": {
    "scrolled": false
   },
   "outputs": [
    {
     "ename": "AttributeError",
     "evalue": "'numpy.float64' object has no attribute 'ttest_ind'",
     "output_type": "error",
     "traceback": [
      "\u001b[1;31m---------------------------------------------------------------------------\u001b[0m",
      "\u001b[1;31mAttributeError\u001b[0m                            Traceback (most recent call last)",
      "\u001b[1;32m<ipython-input-597-45aab3eba953>\u001b[0m in \u001b[0;36m<module>\u001b[1;34m\u001b[0m\n\u001b[0;32m      7\u001b[0m \u001b[0msample_2\u001b[0m \u001b[1;33m=\u001b[0m \u001b[0mmergedData\u001b[0m\u001b[1;33m[\u001b[0m\u001b[0mlifestage_chosen\u001b[0m \u001b[1;33m&\u001b[0m \u001b[0mpremium_budget\u001b[0m\u001b[1;33m]\u001b[0m\u001b[1;33m[\u001b[0m\u001b[1;34m\"TOT_SALES\"\u001b[0m\u001b[1;33m]\u001b[0m\u001b[1;33m\u001b[0m\u001b[1;33m\u001b[0m\u001b[0m\n\u001b[0;32m      8\u001b[0m \u001b[1;33m\u001b[0m\u001b[0m\n\u001b[1;32m----> 9\u001b[1;33m \u001b[0mstat\u001b[0m\u001b[1;33m,\u001b[0m \u001b[0mpval\u001b[0m \u001b[1;33m=\u001b[0m \u001b[0mstats\u001b[0m\u001b[1;33m.\u001b[0m\u001b[0mttest_ind\u001b[0m\u001b[1;33m(\u001b[0m\u001b[0msample_1\u001b[0m\u001b[1;33m.\u001b[0m\u001b[0mvalues\u001b[0m\u001b[1;33m,\u001b[0m \u001b[0msample_2\u001b[0m\u001b[1;33m.\u001b[0m\u001b[0mvalues\u001b[0m\u001b[1;33m,\u001b[0m \u001b[0mequal_var\u001b[0m\u001b[1;33m=\u001b[0m\u001b[1;32mFalse\u001b[0m\u001b[1;33m)\u001b[0m\u001b[1;33m\u001b[0m\u001b[1;33m\u001b[0m\u001b[0m\n\u001b[0m\u001b[0;32m     10\u001b[0m \u001b[1;33m\u001b[0m\u001b[0m\n\u001b[0;32m     11\u001b[0m \u001b[0mprint\u001b[0m\u001b[1;33m(\u001b[0m\u001b[0mpval\u001b[0m\u001b[1;33m)\u001b[0m\u001b[1;33m\u001b[0m\u001b[1;33m\u001b[0m\u001b[0m\n",
      "\u001b[1;31mAttributeError\u001b[0m: 'numpy.float64' object has no attribute 'ttest_ind'"
     ]
    }
   ],
   "source": [
    "mainstream = (mergedData[\"PREMIUM_CUSTOMER\"] == \"Mainstream\")\n",
    "lifestage_chosen = (mergedData[\"LIFESTAGE\"] == \"MIDAGE SINGLES/COUPLES\") | (mergedData[\"LIFESTAGE\"] == \"YOUNG SINGLES/COUPLES\")\n",
    "\n",
    "premium_budget = (mergedData[\"PREMIUM_CUSTOMER\"] == \"Budget\") | (mergedData[\"PREMIUM_CUSTOMER\"] == \"Premium\")\n",
    "\n",
    "sample_1 = mergedData[lifestage_chosen & mainstream][\"TOT_SALES\"]\n",
    "sample_2 = mergedData[lifestage_chosen & premium_budget][\"TOT_SALES\"]\n",
    "stat, pval = stats.ttest_ind(sample_1.values, sample_2.values, equal_var=False)\n",
    "\n",
    "print(pval)\n",
    "pval < 0.0000001"
   ]
  },
  {
   "cell_type": "markdown",
   "metadata": {},
   "source": [
    "Since it is two categorical varaibles with one dependent numeric variable, \n",
    "we should choose two-way ANOVA, estimating how the mean of a quantitative variable \n",
    "changes according to the levels of two categorical variables."
   ]
  },
  {
   "cell_type": "markdown",
   "metadata": {},
   "source": [
    "\n",
    "\n",
    "Mainstream midage and young singles and couples are more willing to pay more per\n",
    "packet of chips compared to their budget and premium counterparts. This may be due\n",
    "to premium shoppers being more likely to buy healthy snacks and when they buy\n",
    "chips, this is mainly for entertainment purposes rather than their own consumption.\n",
    "This is also supported by there being fewer premium midage and young singles and\n",
    "couples buying chips compared to their mainstream counterparts."
   ]
  }
 ],
 "metadata": {
  "kernelspec": {
   "display_name": "Python 3",
   "language": "python",
   "name": "python3"
  },
  "language_info": {
   "codemirror_mode": {
    "name": "ipython",
    "version": 3
   },
   "file_extension": ".py",
   "mimetype": "text/x-python",
   "name": "python",
   "nbconvert_exporter": "python",
   "pygments_lexer": "ipython3",
   "version": "3.8.5"
  }
 },
 "nbformat": 4,
 "nbformat_minor": 4
}
